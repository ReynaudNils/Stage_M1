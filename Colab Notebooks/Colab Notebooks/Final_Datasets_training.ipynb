{
 "cells": [
  {
   "cell_type": "code",
   "execution_count": 2,
   "metadata": {
    "executionInfo": {
     "elapsed": 274,
     "status": "ok",
     "timestamp": 1660833016527,
     "user": {
      "displayName": "Boley",
      "userId": "18022687292787804222"
     },
     "user_tz": -120
    },
    "id": "sKu6XRyRKE92"
   },
   "outputs": [],
   "source": [
    "%matplotlib inline"
   ]
  },
  {
   "cell_type": "markdown",
   "metadata": {
    "id": "XA84qtLnKE98"
   },
   "source": [
    "\n",
    "Training a Classifier\n",
    "=====================\n",
    "\n",
    "This is it. You have seen how to define neural networks, compute loss and make\n",
    "updates to the weights of the network.\n",
    "\n",
    "Now you might be thinking,\n",
    "\n",
    "What about data?\n",
    "----------------\n",
    "\n",
    "Generally, when you have to deal with image, text, audio or video data,\n",
    "you can use standard python packages that load data into a numpy array.\n",
    "Then you can convert this array into a ``torch.*Tensor``.\n",
    "\n",
    "-  For images, packages such as Pillow, OpenCV are useful\n",
    "-  For audio, packages such as scipy and librosa\n",
    "-  For text, either raw Python or Cython based loading, or NLTK and\n",
    "   SpaCy are useful\n",
    "\n",
    "Specifically for vision, we have created a package called\n",
    "``torchvision``, that has data loaders for common datasets such as\n",
    "ImageNet, CIFAR10, MNIST, etc. and data transformers for images, viz.,\n",
    "``torchvision.datasets`` and ``torch.utils.data.DataLoader``.\n",
    "\n",
    "This provides a huge convenience and avoids writing boilerplate code.\n",
    "\n",
    "For this tutorial, we will use the CIFAR10 dataset.\n",
    "It has the classes: ‘airplane’, ‘automobile’, ‘bird’, ‘cat’, ‘deer’,\n",
    "‘dog’, ‘frog’, ‘horse’, ‘ship’, ‘truck’. The images in CIFAR-10 are of\n",
    "size 3x32x32, i.e. 3-channel color images of 32x32 pixels in size.\n",
    "\n",
    ".. figure:: /_static/img/cifar10.png\n",
    "   :alt: cifar10\n",
    "\n",
    "   cifar10\n",
    "\n",
    "\n",
    "Training an image classifier\n",
    "----------------------------\n",
    "\n",
    "We will do the following steps in order:\n",
    "\n",
    "1. Load and normalize the CIFAR10 training and test datasets using\n",
    "   ``torchvision``\n",
    "2. Define a Convolutional Neural Network\n",
    "3. Define a loss function\n",
    "4. Train the network on the training data\n",
    "5. Test the network on the test data\n",
    "\n",
    "1. Load and normalize CIFAR10\n",
    "^^^^^^^^^^^^^^^^^^^^^^^^^^^^^\n",
    "\n",
    "Using ``torchvision``, it’s extremely easy to load CIFAR10.\n"
   ]
  },
  {
   "cell_type": "code",
   "execution_count": 3,
   "metadata": {
    "executionInfo": {
     "elapsed": 2597,
     "status": "ok",
     "timestamp": 1660833022339,
     "user": {
      "displayName": "Boley",
      "userId": "18022687292787804222"
     },
     "user_tz": -120
    },
    "id": "yc6sWLhoKE9_"
   },
   "outputs": [],
   "source": [
    "import torch\n",
    "import torchvision\n",
    "import torchvision.transforms as transforms\n",
    "import numpy as np"
   ]
  },
  {
   "cell_type": "code",
   "execution_count": 4,
   "metadata": {
    "colab": {
     "base_uri": "https://localhost:8080/"
    },
    "executionInfo": {
     "elapsed": 327,
     "status": "ok",
     "timestamp": 1660833023611,
     "user": {
      "displayName": "Boley",
      "userId": "18022687292787804222"
     },
     "user_tz": -120
    },
    "id": "-KkXGFvHXBm-",
    "outputId": "016b489d-e874-4af0-e7d8-3bf30030a5cf"
   },
   "outputs": [
    {
     "name": "stdout",
     "output_type": "stream",
     "text": [
      "cuda:0\n"
     ]
    }
   ],
   "source": [
    "device = torch.device('cuda:0' if torch.cuda.is_available() else 'cpu')\n",
    "\n",
    "# Assuming that we are on a CUDA machine, this should print a CUDA device:\n",
    "\n",
    "print(device)"
   ]
  },
  {
   "cell_type": "markdown",
   "metadata": {
    "id": "alTTQdzTKE-A"
   },
   "source": [
    "The output of torchvision datasets are PILImage images of range [0, 1].\n",
    "We transform them to Tensors of normalized range [-1, 1].\n",
    "\n"
   ]
  },
  {
   "cell_type": "markdown",
   "metadata": {
    "id": "DH45qN7ZKE-A"
   },
   "source": [
    "<div class=\"alert alert-info\"><h4>Note</h4><p>If running on Windows and you get a BrokenPipeError, try setting\n",
    "    the num_worker of torch.utils.data.DataLoader() to 0.</p></div>\n",
    "\n"
   ]
  },
  {
   "cell_type": "code",
   "execution_count": 5,
   "metadata": {
    "executionInfo": {
     "elapsed": 264,
     "status": "ok",
     "timestamp": 1660833029722,
     "user": {
      "displayName": "Boley",
      "userId": "18022687292787804222"
     },
     "user_tz": -120
    },
    "id": "IEc8jXKmlFxH"
   },
   "outputs": [],
   "source": [
    "class IMBALANCECIFAR10(torchvision.datasets.CIFAR10):\n",
    "    cls_num = 10\n",
    "\n",
    "    def __init__(self, root, imb_type='Zipf-Mandelbrot', imb_factor=2.3, imb_factor2=54.7, rand_number=0, train=True,\n",
    "                 transform=None, target_transform=None,\n",
    "                 download=False):\n",
    "        super(IMBALANCECIFAR10, self).__init__(root, train, transform, target_transform, download)\n",
    "        np.random.seed(rand_number)\n",
    "        img_num_list = self.get_img_num_per_cls(self.cls_num, imb_type, imb_factor, imb_factor2)\n",
    "        self.gen_imbalanced_data(img_num_list)\n",
    "\n",
    "    def get_img_num_per_cls(self, cls_num, imb_type, imb_factor, imb_factor2):\n",
    "        img_max = len(self.data) / cls_num\n",
    "        img_num_per_cls = []\n",
    "        if imb_type == 'exp':\n",
    "            for cls_idx in range(cls_num):\n",
    "                num = img_max * (imb_factor**(cls_idx / (cls_num - 1.0)))\n",
    "                img_num_per_cls.append(int(num))\n",
    "        if imb_type == 'Zipf-Mandelbrot':\n",
    "            invC = 0\n",
    "            for cls_idx in range(1, cls_num+1):\n",
    "                invC += 1/((cls_idx+imb_factor2)**(imb_factor))\n",
    "            for cls_idx in range(1, cls_num+1):\n",
    "                num = img_max * (1/((cls_idx+imb_factor2)**(imb_factor)*invC))\n",
    "                img_num_per_cls.append(int(num))\n",
    "        if imb_type == 'Zipf':\n",
    "            invC = 0\n",
    "            for cls_idx in range(1, cls_num+1):\n",
    "                invC += 1/((cls_idx)**(imb_factor))\n",
    "            for cls_idx in range(1, cls_num+1):\n",
    "                num = img_max * (1/((cls_idx)**(imb_factor)*invC))\n",
    "                img_num_per_cls.append(int(num))\n",
    "        elif imb_type == 'step':\n",
    "            for cls_idx in range(cls_num // 2):\n",
    "                img_num_per_cls.append(int(img_max))\n",
    "            for cls_idx in range(cls_num // 2):\n",
    "                img_num_per_cls.append(int(img_max * imb_factor))\n",
    "        else:\n",
    "            img_num_per_cls.extend([int(img_max)] * cls_num)\n",
    "        return img_num_per_cls\n",
    "\n",
    "    def gen_imbalanced_data(self, img_num_per_cls):\n",
    "        new_data = []\n",
    "        new_targets = []\n",
    "        targets_np = np.array(self.targets, dtype=np.int64)\n",
    "        classes = np.unique(targets_np)\n",
    "        # np.random.shuffle(classes)\n",
    "        self.num_per_cls_dict = dict()\n",
    "        for the_class, the_img_num in zip(classes, img_num_per_cls):\n",
    "            self.num_per_cls_dict[the_class] = the_img_num\n",
    "            idx = np.where(targets_np == the_class)[0]\n",
    "            np.random.shuffle(idx)\n",
    "            selec_idx = idx[:the_img_num]\n",
    "            new_data.append(self.data[selec_idx, ...])\n",
    "            new_targets.extend([the_class, ] * the_img_num)\n",
    "        new_data = np.vstack(new_data)\n",
    "        self.data = new_data\n",
    "        self.targets = new_targets\n",
    "        \n",
    "    def get_cls_num_list(self):\n",
    "        cls_num_list = []\n",
    "        for i in range(self.cls_num):\n",
    "            cls_num_list.append(self.num_per_cls_dict[i])\n",
    "        return cls_num_list"
   ]
  },
  {
   "cell_type": "code",
   "execution_count": 6,
   "metadata": {
    "executionInfo": {
     "elapsed": 285,
     "status": "ok",
     "timestamp": 1660833034537,
     "user": {
      "displayName": "Boley",
      "userId": "18022687292787804222"
     },
     "user_tz": -120
    },
    "id": "lmM-GUQglHR1"
   },
   "outputs": [],
   "source": [
    "class IMBALANCECIFAR100(IMBALANCECIFAR10):\n",
    "    \"\"\"`CIFAR100 <https://www.cs.toronto.edu/~kriz/cifar.html>`_ Dataset.\n",
    "    This is a subclass of the `CIFAR10` Dataset.\n",
    "    \"\"\"\n",
    "    base_folder = 'cifar-100-python'\n",
    "    url = \"https://www.cs.toronto.edu/~kriz/cifar-100-python.tar.gz\"\n",
    "    filename = \"cifar-100-python.tar.gz\"\n",
    "    tgz_md5 = 'eb9058c3a382ffc7106e4002c42a8d85'\n",
    "    train_list = [\n",
    "        ['train', '16019d7e3df5f24257cddd939b257f8d'],\n",
    "    ]\n",
    "\n",
    "    test_list = [\n",
    "        ['test', 'f0ef6b0ae62326f3e7ffdfab6717acfc'],\n",
    "    ]\n",
    "    meta = {\n",
    "        'filename': 'meta',\n",
    "        'key': 'fine_label_names',\n",
    "        'md5': '7973b15100ade9c7d40fb424638fde48',\n",
    "    }\n",
    "    cls_num = 100"
   ]
  },
  {
   "cell_type": "code",
   "execution_count": 7,
   "metadata": {
    "executionInfo": {
     "elapsed": 234,
     "status": "ok",
     "timestamp": 1660833037451,
     "user": {
      "displayName": "Boley",
      "userId": "18022687292787804222"
     },
     "user_tz": -120
    },
    "id": "GDduWpVZl0yW"
   },
   "outputs": [],
   "source": [
    "Liste = [500, 296, 189, 131, 96, 372, 209, 134, 93, 68, 270, 152, 97, 67, 49, 200, 113, 72, 50, 36, 152, 85, 54, 38, 28, 117, 66, 42, 29, 21, 92, 51, 33, 23, 16, 73, 41, 26, 18, 13, 59, 33, 21, 14, 10, 48, 27, 17, 12, 8, 39, 22, 14, 9, 7, 32, 18, 11, 8, 6, 27, 15, 9, 6, 5, 23, 13, 8, 5, 4, 19, 11, 7, 4, 3, 16, 9, 6, 4, 3, 14, 8, 5, 3, 2, 12, 7, 4, 3, 2, 10, 6, 3, 2, 2, 9, 5, 3, 2, 1]"
   ]
  },
  {
   "cell_type": "code",
   "execution_count": 104,
   "metadata": {
    "colab": {
     "base_uri": "https://localhost:8080/"
    },
    "executionInfo": {
     "elapsed": 259,
     "status": "ok",
     "timestamp": 1660836651909,
     "user": {
      "displayName": "Boley",
      "userId": "18022687292787804222"
     },
     "user_tz": -120
    },
    "id": "iQoYvZZrk68x",
    "outputId": "d3e6006d-2684-400b-d02e-e33eb1eb1fd6"
   },
   "outputs": [
    {
     "name": "stdout",
     "output_type": "stream",
     "text": [
      "[500, 372, 296, 270, 209, 200, 189, 152, 152, 134, 131, 117, 113, 97, 96, 93, 92, 85, 73, 72, 68, 67, 66, 59, 54, 51, 50, 49, 48, 42, 41, 39, 38, 36, 33, 33, 32, 29, 28, 27, 27, 26, 23, 23, 22, 21, 21, 19, 18, 18, 17, 16, 16, 15, 14, 14, 14, 13, 13, 12, 12, 11, 11, 10, 10, 9, 9, 9, 9, 8, 8, 8, 8, 7, 7, 7, 6, 6, 6, 6, 5, 5, 5, 5, 4, 4, 4, 4, 3, 3, 3, 3, 3, 3, 2, 2, 2, 2, 2, 1]\n"
     ]
    }
   ],
   "source": [
    "Liste2 = Liste.copy()\n",
    "Liste2.sort(reverse=True)\n",
    "print(Liste2)"
   ]
  },
  {
   "cell_type": "code",
   "execution_count": 108,
   "metadata": {
    "executionInfo": {
     "elapsed": 248,
     "status": "ok",
     "timestamp": 1660836772242,
     "user": {
      "displayName": "Boley",
      "userId": "18022687292787804222"
     },
     "user_tz": -120
    },
    "id": "dgI1puyFl4Ni"
   },
   "outputs": [],
   "source": [
    "class GoodIMBALANCECIFAR10(torchvision.datasets.CIFAR10):\n",
    "    cls_num = 10\n",
    "\n",
    "    def __init__(self, root, imb_type='Good', imb_factor=2.3, imb_factor2=54.7, rand_number=0, train=True,\n",
    "                 transform=None, target_transform=None,\n",
    "                 download=False):\n",
    "        super(GoodIMBALANCECIFAR10, self).__init__(root, train, transform, target_transform, download)\n",
    "        np.random.seed(rand_number)\n",
    "        img_num_list = self.get_img_num_per_cls(self.cls_num, imb_type, imb_factor, imb_factor2)\n",
    "        self.gen_imbalanced_data(img_num_list)\n",
    "\n",
    "    def get_img_num_per_cls(self, cls_num, imb_type, imb_factor, imb_factor2):\n",
    "        img_max = len(self.data) / cls_num\n",
    "        img_num_per_cls = []\n",
    "        if imb_type == 'exp':\n",
    "            for cls_idx in range(cls_num):\n",
    "                num = img_max * (imb_factor**(cls_idx / (cls_num - 1.0)))\n",
    "                img_num_per_cls.append(int(num))\n",
    "        if imb_type == 'Good':\n",
    "            for cls_idx in range(cls_num):\n",
    "                num = Liste2[cls_idx]\n",
    "                img_num_per_cls.append(int(num))\n",
    "        if imb_type == 'Zipf-Mandelbrot':\n",
    "            invC = 0\n",
    "            for cls_idx in range(1, cls_num+1):\n",
    "                invC += 1/((cls_idx+imb_factor2)**(imb_factor))\n",
    "            for cls_idx in range(1, cls_num+1):\n",
    "                num = img_max * (1/((cls_idx+imb_factor2)**(imb_factor)*invC))\n",
    "                img_num_per_cls.append(int(num))\n",
    "        if imb_type == 'Zipf':\n",
    "            invC = 0\n",
    "            for cls_idx in range(1, cls_num+1):\n",
    "                invC += 1/((cls_idx)**(imb_factor))\n",
    "            for cls_idx in range(1, cls_num+1):\n",
    "                num = img_max * (1/((cls_idx)**(imb_factor)*invC))\n",
    "                img_num_per_cls.append(int(num))\n",
    "        elif imb_type == 'step':\n",
    "            for cls_idx in range(cls_num // 2):\n",
    "                img_num_per_cls.append(int(img_max))\n",
    "            for cls_idx in range(cls_num // 2):\n",
    "                img_num_per_cls.append(int(img_max * imb_factor))\n",
    "        else:\n",
    "            img_num_per_cls.extend([int(img_max)] * cls_num)\n",
    "        return img_num_per_cls\n",
    "\n",
    "    def gen_imbalanced_data(self, img_num_per_cls):\n",
    "        new_data = []\n",
    "        new_targets = []\n",
    "        targets_np = np.array(self.targets, dtype=np.int64)\n",
    "        classes = np.unique(targets_np)\n",
    "        # np.random.shuffle(classes)\n",
    "        self.num_per_cls_dict = dict()\n",
    "        for the_class, the_img_num in zip(classes, img_num_per_cls):\n",
    "            self.num_per_cls_dict[the_class] = the_img_num\n",
    "            idx = np.where(targets_np == the_class)[0]\n",
    "            np.random.shuffle(idx)\n",
    "            selec_idx = idx[:the_img_num]\n",
    "            new_data.append(self.data[selec_idx, ...])\n",
    "            new_targets.extend([the_class, ] * the_img_num)\n",
    "        new_data = np.vstack(new_data)\n",
    "        self.data = new_data\n",
    "        self.targets = new_targets\n",
    "        \n",
    "    def get_cls_num_list(self):\n",
    "        cls_num_list = []\n",
    "        for i in range(self.cls_num):\n",
    "            cls_num_list.append(self.num_per_cls_dict[i])\n",
    "        return cls_num_list"
   ]
  },
  {
   "cell_type": "code",
   "execution_count": 109,
   "metadata": {
    "executionInfo": {
     "elapsed": 221,
     "status": "ok",
     "timestamp": 1660836779433,
     "user": {
      "displayName": "Boley",
      "userId": "18022687292787804222"
     },
     "user_tz": -120
    },
    "id": "2DgmIkYrmNyv"
   },
   "outputs": [],
   "source": [
    "class GoodIMBALANCECIFAR100(GoodIMBALANCECIFAR10):\n",
    "    \"\"\"`CIFAR100 <https://www.cs.toronto.edu/~kriz/cifar.html>`_ Dataset.\n",
    "    This is a subclass of the `CIFAR10` Dataset.\n",
    "    \"\"\"\n",
    "    base_folder = 'cifar-100-python'\n",
    "    url = \"https://www.cs.toronto.edu/~kriz/cifar-100-python.tar.gz\"\n",
    "    filename = \"cifar-100-python.tar.gz\"\n",
    "    tgz_md5 = 'eb9058c3a382ffc7106e4002c42a8d85'\n",
    "    train_list = [\n",
    "        ['train', '16019d7e3df5f24257cddd939b257f8d'],\n",
    "    ]\n",
    "\n",
    "    test_list = [\n",
    "        ['test', 'f0ef6b0ae62326f3e7ffdfab6717acfc'],\n",
    "    ]\n",
    "    meta = {\n",
    "        'filename': 'meta',\n",
    "        'key': 'fine_label_names',\n",
    "        'md5': '7973b15100ade9c7d40fb424638fde48',\n",
    "    }\n",
    "    cls_num = 100"
   ]
  },
  {
   "cell_type": "code",
   "execution_count": 70,
   "metadata": {
    "executionInfo": {
     "elapsed": 287,
     "status": "ok",
     "timestamp": 1660834919519,
     "user": {
      "displayName": "Boley",
      "userId": "18022687292787804222"
     },
     "user_tz": -120
    },
    "id": "Qqyim8Q0eRcB"
   },
   "outputs": [],
   "source": [
    "class CIFAR100Nils(torchvision.datasets.CIFAR100):\n",
    "    def __init__(self, root, train=True, transform=None, target_transform=None, download=False):\n",
    "        super(CIFAR100Nils, self).__init__(root, train, transform, target_transform, download)\n",
    "\n",
    "        # update labels\n",
    "        coarse_labels = np.array([ 20,  5, 70,  40,  0,  30,  35,  36, 90,  15,\n",
    "                                   16, 71,  45, 91, 37, 55,  17,  46,  38, 56,\n",
    "                                   31, 57,  25, 50,  39,  32, 65, 75,  18, 76, \n",
    "                                   1, 58,  6, 51, 60, 72, 80, 47, 59, 26,\n",
    "                                   27, 95,  41,  42, 77, 66, 73, 85, 92, 52,\n",
    "                                   81, 21, 86,  22,  10,  2, 87,  23, 93, 88,\n",
    "                                   53, 19,  11, 61, 62, 82, 63,  7,  48, 96, \n",
    "                                   12, 54,  3,  8, 83, 64,  49, 67, 78, 68,\n",
    "                                  84, 97,  13,  24,  33, 98,  28,  29,  43, 99,\n",
    "                                  94,  9,  14, 79,  34,  4, 89,  44, 74, 69])\n",
    "        self.targets = coarse_labels[self.targets]\n",
    "\n",
    "        # update classes\n",
    "        self.classes = ['beaver', 'dolphin', 'otter', 'seal', 'whale',\n",
    "                        'aquarium_fish', 'flatfish', 'ray', 'shark', 'trout',\n",
    "                        'orchid', 'poppy', 'rose', 'sunflower', 'tulip',\n",
    "                        'bottle', 'bowl', 'can', 'cup', 'plate',\n",
    "                        'apple', 'mushroom', 'orange', 'pear', 'sweet_pepper',\n",
    "                        'clock', 'keyboard', 'lamp', 'telephone', 'television',\n",
    "                        'bed', 'chair', 'couch', 'table', 'wardrobe',\n",
    "                        'bee', 'beetle', 'butterfly', 'caterpillar', 'cockroach',\n",
    "                        'bear', 'leopard', 'lion', 'tiger', 'wolf',\n",
    "                        'bridge', 'castle', 'house', 'road', 'skyscraper',\n",
    "                        'cloud', 'forest', 'mountain', 'plain', 'sea',\n",
    "                        'camel', 'cattle', 'chimpanzee', 'elephant', 'kangaroo',\n",
    "                        'fox', 'porcupine', 'possum', 'raccoon', 'skunk',\n",
    "                        'crab', 'lobster', 'snail', 'spider', 'worm',\n",
    "                        'baby', 'boy', 'girl', 'man', 'woman',\n",
    "                        'crocodile', 'dinosaur', 'lizard', 'snake', 'turtle',\n",
    "                        'hamster', 'mouse', 'rabbit', 'shrew', 'squirrel',\n",
    "                        'maple_tree', 'oak_tree', 'palm_tree', 'pine_tree', 'willow_tree',\n",
    "                        'bicycle', 'bus', 'motorcycle', 'pickup_truck', 'train',\n",
    "                        'lawn_mower', 'rocket', 'streetcar', 'tank', 'tractor']"
   ]
  },
  {
   "cell_type": "code",
   "execution_count": 71,
   "metadata": {
    "executionInfo": {
     "elapsed": 242,
     "status": "ok",
     "timestamp": 1660834963691,
     "user": {
      "displayName": "Boley",
      "userId": "18022687292787804222"
     },
     "user_tz": -120
    },
    "id": "Y9pmVvNYeb2h"
   },
   "outputs": [],
   "source": [
    "class IMBALANCECIFAR100Realist(CIFAR100Nils):\n",
    "    cls_num = 100\n",
    "\n",
    "    def __init__(self, root, imb_type='ZM', a1=4, q1=10, a2 = 2, q2=2, rand_number=0, train=True,\n",
    "                 transform=None, target_transform=None,\n",
    "                 download=False):\n",
    "        super(IMBALANCECIFAR100Realist, self).__init__(root, train, transform, target_transform, download)\n",
    "        np.random.seed(rand_number)\n",
    "        img_num_list = self.get_img_num_per_cls(self.cls_num, imb_type, a1, q1, a2, q2)\n",
    "        self.gen_imbalanced_data(img_num_list)\n",
    "\n",
    "    def get_img_num_per_cls(self, cls_num, imb_type, a1, q1, a2, q2):\n",
    "        img_max = len(self.data) / cls_num\n",
    "        img_num_per_cls = []\n",
    "        if imb_type == 'exp':\n",
    "            for cls_idx in range(cls_num):\n",
    "                num = img_max * (imb_factor**(cls_idx / (cls_num - 1.0)))\n",
    "                img_num_per_cls.append(int(num))\n",
    "        if imb_type == 'ZM':\n",
    "            Normalisation = 0\n",
    "            for i in range(1, 21): #Les genres\n",
    "                Int = []\n",
    "                for j in range(1, 6): #les especes\n",
    "                    Normalisation += (1/(i+q1)**(a1))*(1/(j+q2)**(a2))\n",
    "            for cls_idx in range(cls_num):\n",
    "                cls_genre = cls_idx % 5 + 1\n",
    "                cls_espece = cls_idx // 5 + 1\n",
    "                num = (1/(cls_espece+q1)**(a1))*(1/(cls_genre+q2)**(a2))\n",
    "                img_num_per_cls.append(min(int(num*5000/Normalisation), 500))\n",
    "        if imb_type == 'Zipf-Mandelbrot':\n",
    "            invC = 0\n",
    "            for cls_idx in range(1, cls_num+1):\n",
    "                invC += 1/((cls_idx+imb_factor2)**(imb_factor))\n",
    "            for cls_idx in range(1, cls_num+1):\n",
    "                num = img_max * (1/((cls_idx+imb_factor2)**(imb_factor)*invC))\n",
    "                img_num_per_cls.append(int(num))\n",
    "        if imb_type == 'Zipf':\n",
    "            invC = 0\n",
    "            for cls_idx in range(1, cls_num+1):\n",
    "                invC += 1/((cls_idx)**(imb_factor))\n",
    "            for cls_idx in range(1, cls_num+1):\n",
    "                num = img_max * (1/((cls_idx)**(imb_factor)*invC))\n",
    "                img_num_per_cls.append(int(num))\n",
    "        elif imb_type == 'step':\n",
    "            for cls_idx in range(cls_num // 2):\n",
    "                img_num_per_cls.append(int(img_max))\n",
    "            for cls_idx in range(cls_num // 2):\n",
    "                img_num_per_cls.append(int(img_max * imb_factor))\n",
    "        else:\n",
    "            img_num_per_cls.extend([int(img_max)] * cls_num)\n",
    "        return img_num_per_cls\n",
    "\n",
    "    def gen_imbalanced_data(self, img_num_per_cls):\n",
    "        new_data = []\n",
    "        new_targets = []\n",
    "        targets_np = np.array(self.targets, dtype=np.int64)\n",
    "        classes = np.unique(targets_np)\n",
    "        # np.random.shuffle(classes)\n",
    "        self.num_per_cls_dict = dict()\n",
    "        for the_class, the_img_num in zip(classes, img_num_per_cls):\n",
    "            self.num_per_cls_dict[the_class] = the_img_num\n",
    "            idx = np.where(targets_np == the_class)[0]\n",
    "            np.random.shuffle(idx)\n",
    "            selec_idx = idx[:the_img_num]\n",
    "            new_data.append(self.data[selec_idx, ...])\n",
    "            new_targets.extend([the_class, ] * the_img_num)\n",
    "        new_data = np.vstack(new_data)\n",
    "        self.data = new_data\n",
    "        self.targets = new_targets\n",
    "        \n",
    "    def get_cls_num_list(self):\n",
    "        cls_num_list = []\n",
    "        for i in range(self.cls_num):\n",
    "            cls_num_list.append(self.num_per_cls_dict[i])\n",
    "        return cls_num_list"
   ]
  },
  {
   "cell_type": "code",
   "execution_count": 158,
   "metadata": {
    "executionInfo": {
     "elapsed": 265,
     "status": "ok",
     "timestamp": 1660838253955,
     "user": {
      "displayName": "Boley",
      "userId": "18022687292787804222"
     },
     "user_tz": -120
    },
    "id": "jJy-vPWyqdyu"
   },
   "outputs": [],
   "source": [
    "Liste3 = [68,200, 8, 27, 500, 41, 33, 32, 3, 93, 92, 8, 21, 3, 29, 14, 85, 21, 28, 14, 39, 13, 51, 17, 27, 38, 9, 7, 73, 6, 372, 13, 189, 16, 12, 8, 5, 19, 12, 50, 49, 2, 26, 23, 6, 9, 7,\n",
    " 4, 3, 16, 5, 67, 4, 66, 131, 296, 4, 59, 3, 3, 15, 72, 117, 11, 11, 5, 10, 152, 18, 2, 113, 14, 270, 152, 5, 10, 18, 9, 6, 9, 4, 2, 97, 54, 36, 2, 48, 42, 23, 1, 2, 134, 96, 6, 33, 209, 3,\n",
    " 22, 7, 8]"
   ]
  },
  {
   "cell_type": "code",
   "execution_count": 159,
   "metadata": {
    "executionInfo": {
     "elapsed": 276,
     "status": "ok",
     "timestamp": 1660838255321,
     "user": {
      "displayName": "Boley",
      "userId": "18022687292787804222"
     },
     "user_tz": -120
    },
    "id": "htNny1O1hZhv"
   },
   "outputs": [],
   "source": [
    "#Dataset_Generas\n",
    "class IMBALANCECIFAR100Generas(torchvision.datasets.CIFAR100):\n",
    "    cls_num = 100\n",
    "\n",
    "    def __init__(self, root, imb_type='Generas', a1=4, q1=10, a2 = 2, q2=2, rand_number=0, train=True,\n",
    "                 transform=None, target_transform=None,\n",
    "                 download=False):\n",
    "        super(IMBALANCECIFAR100Generas, self).__init__(root, train, transform, target_transform, download)\n",
    "        np.random.seed(rand_number)\n",
    "        img_num_list = self.get_img_num_per_cls(self.cls_num, imb_type, a1, q1, a2, q2)\n",
    "        self.gen_imbalanced_data(img_num_list)\n",
    "\n",
    "    def get_img_num_per_cls(self, cls_num, imb_type, a1, q1, a2, q2):\n",
    "        img_max = len(self.data) / cls_num\n",
    "        img_num_per_cls = []\n",
    "        if imb_type == 'exp':\n",
    "            for cls_idx in range(cls_num):\n",
    "                num = img_max * (imb_factor**(cls_idx / (cls_num - 1.0)))\n",
    "                img_num_per_cls.append(int(num))\n",
    "        if imb_type == 'Generas':\n",
    "            for cls_idx in range(cls_num):\n",
    "                num = Liste3[cls_idx]\n",
    "                img_num_per_cls.append(int(num))\n",
    "        if imb_type == 'ZM':\n",
    "            Normalisation = 0\n",
    "            for i in range(1, 21): #Les genres\n",
    "                Int = []\n",
    "                for j in range(1, 6): #les especes\n",
    "                    Normalisation += (1/(i+q1)**(a1))*(1/(j+q2)**(a2))\n",
    "            for cls_idx in range(cls_num):\n",
    "                cls_genre = cls_idx % 5 + 1\n",
    "                cls_espece = cls_idx // 5 + 1\n",
    "                num = (1/(cls_espece+q1)**(a1))*(1/(cls_genre+q2)**(a2))\n",
    "                img_num_per_cls.append(min(int(num*5000/Normalisation), 500))\n",
    "        if imb_type == 'Zipf-Mandelbrot':\n",
    "            invC = 0\n",
    "            for cls_idx in range(1, cls_num+1):\n",
    "                invC += 1/((cls_idx+imb_factor2)**(imb_factor))\n",
    "            for cls_idx in range(1, cls_num+1):\n",
    "                num = img_max * (1/((cls_idx+imb_factor2)**(imb_factor)*invC))\n",
    "                img_num_per_cls.append(int(num))\n",
    "        if imb_type == 'Zipf':\n",
    "            invC = 0\n",
    "            for cls_idx in range(1, cls_num+1):\n",
    "                invC += 1/((cls_idx)**(imb_factor))\n",
    "            for cls_idx in range(1, cls_num+1):\n",
    "                num = img_max * (1/((cls_idx)**(imb_factor)*invC))\n",
    "                img_num_per_cls.append(int(num))\n",
    "        elif imb_type == 'step':\n",
    "            for cls_idx in range(cls_num // 2):\n",
    "                img_num_per_cls.append(int(img_max))\n",
    "            for cls_idx in range(cls_num // 2):\n",
    "                img_num_per_cls.append(int(img_max * imb_factor))\n",
    "        else:\n",
    "            img_num_per_cls.extend([int(img_max)] * cls_num)\n",
    "        return img_num_per_cls\n",
    "\n",
    "    def gen_imbalanced_data(self, img_num_per_cls):\n",
    "        new_data = []\n",
    "        new_targets = []\n",
    "        targets_np = np.array(self.targets, dtype=np.int64)\n",
    "        classes = np.unique(targets_np)\n",
    "        # np.random.shuffle(classes)\n",
    "        self.num_per_cls_dict = dict()\n",
    "        for the_class, the_img_num in zip(classes, img_num_per_cls):\n",
    "            self.num_per_cls_dict[the_class] = the_img_num\n",
    "            idx = np.where(targets_np == the_class)[0]\n",
    "            np.random.shuffle(idx)\n",
    "            selec_idx = idx[:the_img_num]\n",
    "            new_data.append(self.data[selec_idx, ...])\n",
    "            new_targets.extend([the_class, ] * the_img_num)\n",
    "        new_data = np.vstack(new_data)\n",
    "        self.data = new_data\n",
    "        self.targets = new_targets\n",
    "        \n",
    "    def get_cls_num_list(self):\n",
    "        cls_num_list = []\n",
    "        for i in range(self.cls_num):\n",
    "            cls_num_list.append(self.num_per_cls_dict[i])\n",
    "        return cls_num_list"
   ]
  },
  {
   "cell_type": "code",
   "execution_count": 160,
   "metadata": {
    "colab": {
     "base_uri": "https://localhost:8080/"
    },
    "executionInfo": {
     "elapsed": 2139,
     "status": "ok",
     "timestamp": 1660838261368,
     "user": {
      "displayName": "Boley",
      "userId": "18022687292787804222"
     },
     "user_tz": -120
    },
    "id": "KyQMHFJoKE-B",
    "outputId": "4ee0fd4f-ef85-404e-c4ac-ad1847bb29bb"
   },
   "outputs": [
    {
     "name": "stdout",
     "output_type": "stream",
     "text": [
      "Files already downloaded and verified\n",
      "Files already downloaded and verified\n"
     ]
    }
   ],
   "source": [
    "transform = transforms.Compose(\n",
    "    [transforms.ToTensor(),\n",
    "     transforms.Normalize((0.5, 0.5, 0.5), (0.5, 0.5, 0.5))])\n",
    "\n",
    "batch_size = 16\n",
    "\n",
    "trainset = IMBALANCECIFAR100Generas(root='./data', train=True,\n",
    "                                        download=True, transform=transform)\n",
    "trainloader = torch.utils.data.DataLoader(trainset, batch_size=batch_size,\n",
    "                                          shuffle=True, num_workers=2)\n",
    "\n",
    "testset = torchvision.datasets.CIFAR100(root='./data', train=False,\n",
    "                                       download=True, transform=transform)\n",
    "testloader = torch.utils.data.DataLoader(testset, batch_size=batch_size,\n",
    "                                         shuffle=False, num_workers=2)\n",
    "\n",
    "classes = ('apple', 'aquarium_fish', 'baby', 'bear', 'beaver', 'bed', 'bee', 'beetle', 'bicycle', 'bottle', 'bowl', 'boy', 'bridge', 'bus', 'butterfly', 'camel', 'can', 'castle',\n",
    " 'caterpillar', 'cattle', 'chair', 'chimpanzee', 'clock', 'cloud', 'cockroach', 'couch', 'crab', 'crocodile', 'cup', 'dinosaur', 'dolphin', 'elephant', 'flatfish', 'forest', 'fox', 'girl',\n",
    " 'hamster', 'house', 'kangaroo', 'keyboard', 'lamp', 'lawn_mower','leopard', 'lion', 'lizard', 'lobster', 'man', 'maple_tree', 'motorcycle', 'mountain', 'mouse', 'mushroom', 'oak_tree',\n",
    " 'orange', 'orchid', 'otter', 'palm_tree', 'pear', 'pickup_truck', 'pine_tree', 'plain', 'plate', 'poppy', 'porcupine', 'possum', 'rabbit', 'raccoon', 'ray', 'road', 'rocket', 'rose',\n",
    " 'sea', 'seal', 'shark', 'shrew', 'skunk', 'skyscraper', 'snail', 'snake', 'spider', 'squirrel', 'streetcar', 'sunflower', 'sweet_pepper', 'table', 'tank', 'telephone', 'television', 'tiger',\n",
    " 'tractor', 'train', 'trout', 'tulip', 'turtle', 'wardrobe', 'whale', 'willow_tree', 'wolf', 'woman', 'worm')"
   ]
  },
  {
   "cell_type": "code",
   "execution_count": 162,
   "metadata": {
    "colab": {
     "base_uri": "https://localhost:8080/"
    },
    "executionInfo": {
     "elapsed": 226,
     "status": "ok",
     "timestamp": 1660838318940,
     "user": {
      "displayName": "Boley",
      "userId": "18022687292787804222"
     },
     "user_tz": -120
    },
    "id": "Vft_vHUMmUyt",
    "outputId": "7179d1d6-ac10-4386-a12a-f07f54a1d107"
   },
   "outputs": [
    {
     "name": "stdout",
     "output_type": "stream",
     "text": [
      "4927\n",
      "10000\n"
     ]
    }
   ],
   "source": [
    "print(len(trainset))\n",
    "print(len(testset))"
   ]
  },
  {
   "cell_type": "markdown",
   "metadata": {
    "id": "fM8ED8w-KE-C"
   },
   "source": [
    "Let us show some of the training images, for fun.\n",
    "\n"
   ]
  },
  {
   "cell_type": "code",
   "execution_count": 163,
   "metadata": {
    "colab": {
     "base_uri": "https://localhost:8080/",
     "height": 154
    },
    "executionInfo": {
     "elapsed": 876,
     "status": "ok",
     "timestamp": 1660838321205,
     "user": {
      "displayName": "Boley",
      "userId": "18022687292787804222"
     },
     "user_tz": -120
    },
    "id": "UVVv2tvLKE-C",
    "outputId": "213cd607-9cdf-4a28-c647-7fdc5076e553"
   },
   "outputs": [
    {
     "data": {
      "image/png": "[encoded data removed]",
      "text/plain": [
       "<Figure size 432x288 with 1 Axes>"
      ]
     },
     "metadata": {
      "needs_background": "light"
     },
     "output_type": "display_data"
    },
    {
     "name": "stdout",
     "output_type": "stream",
     "text": [
      "seal  beaver whale trout poppy cup   chimpanzee table can   orange beaver seal  dolphin cockroach orange dolphin\n"
     ]
    }
   ],
   "source": [
    "from torch.cuda import device_count\n",
    "import matplotlib.pyplot as plt\n",
    "import numpy as np\n",
    "\n",
    "# functions to show an image\n",
    "\n",
    "\n",
    "def imshow(img):\n",
    "    img = img / 2 + 0.5     # unnormalize\n",
    "    npimg = img.numpy()\n",
    "    plt.imshow(np.transpose(npimg, (1, 2, 0)))\n",
    "    plt.show()\n",
    "\n",
    "\n",
    "# get some random training images\n",
    "dataiter = iter(trainloader)\n",
    "images, labels = dataiter.next()\n",
    "images = images.to(device)\n",
    "labels = labels.to(device)\n",
    "\n",
    "# show images\n",
    "imshow(torchvision.utils.make_grid(images.cpu()))\n",
    "# print labels\n",
    "print(' '.join(f'{classes[labels[j]]:5s}' for j in range(batch_size)))"
   ]
  },
  {
   "cell_type": "markdown",
   "metadata": {
    "id": "gj33IQ_KKE-D"
   },
   "source": [
    "2. Define a Convolutional Neural Network\n",
    "^^^^^^^^^^^^^^^^^^^^^^^^^^^^^^^^^^^^^^\n",
    "Copy the neural network from the Neural Networks section before and modify it to\n",
    "take 3-channel images (instead of 1-channel images as it was defined).\n",
    "\n"
   ]
  },
  {
   "cell_type": "code",
   "execution_count": 181,
   "metadata": {
    "colab": {
     "base_uri": "https://localhost:8080/"
    },
    "executionInfo": {
     "elapsed": 584,
     "status": "ok",
     "timestamp": 1660838734184,
     "user": {
      "displayName": "Boley",
      "userId": "18022687292787804222"
     },
     "user_tz": -120
    },
    "id": "5xLhKsmfKE-E",
    "outputId": "9db6a8e4-d173-4ae9-9485-81f36629c40c"
   },
   "outputs": [
    {
     "data": {
      "text/plain": [
       "ResNet(\n",
       "  (conv1): Conv2d(3, 64, kernel_size=(7, 7), stride=(2, 2), padding=(3, 3), bias=False)\n",
       "  (bn1): BatchNorm2d(64, eps=1e-05, momentum=0.1, affine=True, track_running_stats=True)\n",
       "  (relu): ReLU(inplace=True)\n",
       "  (maxpool): MaxPool2d(kernel_size=3, stride=2, padding=1, dilation=1, ceil_mode=False)\n",
       "  (layer1): Sequential(\n",
       "    (0): BasicBlock(\n",
       "      (conv1): Conv2d(64, 64, kernel_size=(3, 3), stride=(1, 1), padding=(1, 1), bias=False)\n",
       "      (bn1): BatchNorm2d(64, eps=1e-05, momentum=0.1, affine=True, track_running_stats=True)\n",
       "      (relu): ReLU(inplace=True)\n",
       "      (conv2): Conv2d(64, 64, kernel_size=(3, 3), stride=(1, 1), padding=(1, 1), bias=False)\n",
       "      (bn2): BatchNorm2d(64, eps=1e-05, momentum=0.1, affine=True, track_running_stats=True)\n",
       "    )\n",
       "    (1): BasicBlock(\n",
       "      (conv1): Conv2d(64, 64, kernel_size=(3, 3), stride=(1, 1), padding=(1, 1), bias=False)\n",
       "      (bn1): BatchNorm2d(64, eps=1e-05, momentum=0.1, affine=True, track_running_stats=True)\n",
       "      (relu): ReLU(inplace=True)\n",
       "      (conv2): Conv2d(64, 64, kernel_size=(3, 3), stride=(1, 1), padding=(1, 1), bias=False)\n",
       "      (bn2): BatchNorm2d(64, eps=1e-05, momentum=0.1, affine=True, track_running_stats=True)\n",
       "    )\n",
       "  )\n",
       "  (layer2): Sequential(\n",
       "    (0): BasicBlock(\n",
       "      (conv1): Conv2d(64, 128, kernel_size=(3, 3), stride=(2, 2), padding=(1, 1), bias=False)\n",
       "      (bn1): BatchNorm2d(128, eps=1e-05, momentum=0.1, affine=True, track_running_stats=True)\n",
       "      (relu): ReLU(inplace=True)\n",
       "      (conv2): Conv2d(128, 128, kernel_size=(3, 3), stride=(1, 1), padding=(1, 1), bias=False)\n",
       "      (bn2): BatchNorm2d(128, eps=1e-05, momentum=0.1, affine=True, track_running_stats=True)\n",
       "      (downsample): Sequential(\n",
       "        (0): Conv2d(64, 128, kernel_size=(1, 1), stride=(2, 2), bias=False)\n",
       "        (1): BatchNorm2d(128, eps=1e-05, momentum=0.1, affine=True, track_running_stats=True)\n",
       "      )\n",
       "    )\n",
       "    (1): BasicBlock(\n",
       "      (conv1): Conv2d(128, 128, kernel_size=(3, 3), stride=(1, 1), padding=(1, 1), bias=False)\n",
       "      (bn1): BatchNorm2d(128, eps=1e-05, momentum=0.1, affine=True, track_running_stats=True)\n",
       "      (relu): ReLU(inplace=True)\n",
       "      (conv2): Conv2d(128, 128, kernel_size=(3, 3), stride=(1, 1), padding=(1, 1), bias=False)\n",
       "      (bn2): BatchNorm2d(128, eps=1e-05, momentum=0.1, affine=True, track_running_stats=True)\n",
       "    )\n",
       "  )\n",
       "  (layer3): Sequential(\n",
       "    (0): BasicBlock(\n",
       "      (conv1): Conv2d(128, 256, kernel_size=(3, 3), stride=(2, 2), padding=(1, 1), bias=False)\n",
       "      (bn1): BatchNorm2d(256, eps=1e-05, momentum=0.1, affine=True, track_running_stats=True)\n",
       "      (relu): ReLU(inplace=True)\n",
       "      (conv2): Conv2d(256, 256, kernel_size=(3, 3), stride=(1, 1), padding=(1, 1), bias=False)\n",
       "      (bn2): BatchNorm2d(256, eps=1e-05, momentum=0.1, affine=True, track_running_stats=True)\n",
       "      (downsample): Sequential(\n",
       "        (0): Conv2d(128, 256, kernel_size=(1, 1), stride=(2, 2), bias=False)\n",
       "        (1): BatchNorm2d(256, eps=1e-05, momentum=0.1, affine=True, track_running_stats=True)\n",
       "      )\n",
       "    )\n",
       "    (1): BasicBlock(\n",
       "      (conv1): Conv2d(256, 256, kernel_size=(3, 3), stride=(1, 1), padding=(1, 1), bias=False)\n",
       "      (bn1): BatchNorm2d(256, eps=1e-05, momentum=0.1, affine=True, track_running_stats=True)\n",
       "      (relu): ReLU(inplace=True)\n",
       "      (conv2): Conv2d(256, 256, kernel_size=(3, 3), stride=(1, 1), padding=(1, 1), bias=False)\n",
       "      (bn2): BatchNorm2d(256, eps=1e-05, momentum=0.1, affine=True, track_running_stats=True)\n",
       "    )\n",
       "  )\n",
       "  (layer4): Sequential(\n",
       "    (0): BasicBlock(\n",
       "      (conv1): Conv2d(256, 512, kernel_size=(3, 3), stride=(2, 2), padding=(1, 1), bias=False)\n",
       "      (bn1): BatchNorm2d(512, eps=1e-05, momentum=0.1, affine=True, track_running_stats=True)\n",
       "      (relu): ReLU(inplace=True)\n",
       "      (conv2): Conv2d(512, 512, kernel_size=(3, 3), stride=(1, 1), padding=(1, 1), bias=False)\n",
       "      (bn2): BatchNorm2d(512, eps=1e-05, momentum=0.1, affine=True, track_running_stats=True)\n",
       "      (downsample): Sequential(\n",
       "        (0): Conv2d(256, 512, kernel_size=(1, 1), stride=(2, 2), bias=False)\n",
       "        (1): BatchNorm2d(512, eps=1e-05, momentum=0.1, affine=True, track_running_stats=True)\n",
       "      )\n",
       "    )\n",
       "    (1): BasicBlock(\n",
       "      (conv1): Conv2d(512, 512, kernel_size=(3, 3), stride=(1, 1), padding=(1, 1), bias=False)\n",
       "      (bn1): BatchNorm2d(512, eps=1e-05, momentum=0.1, affine=True, track_running_stats=True)\n",
       "      (relu): ReLU(inplace=True)\n",
       "      (conv2): Conv2d(512, 512, kernel_size=(3, 3), stride=(1, 1), padding=(1, 1), bias=False)\n",
       "      (bn2): BatchNorm2d(512, eps=1e-05, momentum=0.1, affine=True, track_running_stats=True)\n",
       "    )\n",
       "  )\n",
       "  (avgpool): AdaptiveAvgPool2d(output_size=(1, 1))\n",
       "  (fc): Linear(in_features=512, out_features=1000, bias=True)\n",
       ")"
      ]
     },
     "execution_count": 181,
     "metadata": {},
     "output_type": "execute_result"
    }
   ],
   "source": [
    "import torch.nn as nn\n",
    "import torch.nn.functional as F\n",
    "\n",
    "\n",
    "class Net(nn.Module):\n",
    "    def __init__(self):\n",
    "        super().__init__()\n",
    "        self.conv1 = nn.Conv2d(3, 6, 5)\n",
    "        self.pool = nn.MaxPool2d(2, 2)\n",
    "        self.conv2 = nn.Conv2d(6, 16, 5)\n",
    "        self.fc1 = nn.Linear(16 * 5 * 5, 120)\n",
    "        self.fc2 = nn.Linear(120, 84)\n",
    "        self.fc3 = nn.Linear(84, 100)\n",
    "\n",
    "    def forward(self, x):\n",
    "        x = self.pool(F.relu(self.conv1(x)))\n",
    "        x = self.pool(F.relu(self.conv2(x)))\n",
    "        x = torch.flatten(x, 1) # flatten all dimensions except batch\n",
    "        x = F.relu(self.fc1(x))\n",
    "        x = F.relu(self.fc2(x))\n",
    "        x = self.fc3(x)\n",
    "        return x\n",
    "\n",
    "#net = Net()\n",
    "net = torchvision.models.resnet18()\n",
    "net.to(device)"
   ]
  },
  {
   "cell_type": "markdown",
   "metadata": {
    "id": "YbXgeFSxKE-E"
   },
   "source": [
    "3. Define a Loss function and optimizer\n",
    "^^^^^^^^^^^^^^^^^^^^^^^^^^^^^^^^^^^^^^^\n",
    "Let's use a Classification Cross-Entropy loss and SGD with momentum.\n",
    "\n"
   ]
  },
  {
   "cell_type": "code",
   "execution_count": 191,
   "metadata": {
    "executionInfo": {
     "elapsed": 220,
     "status": "ok",
     "timestamp": 1660839061088,
     "user": {
      "displayName": "Boley",
      "userId": "18022687292787804222"
     },
     "user_tz": -120
    },
    "id": "rE2evPWqKE-F"
   },
   "outputs": [],
   "source": [
    "import torch.optim as optim\n",
    "\n",
    "criterion = nn.CrossEntropyLoss()\n",
    "optimizer = optim.SGD(net.parameters(), lr=0.0001, momentum=0.9)"
   ]
  },
  {
   "cell_type": "markdown",
   "metadata": {
    "id": "Y390Dvb_KE-F"
   },
   "source": [
    "4. Train the network\n",
    "^^^^^^^^^^^^^^^^^^^^\n",
    "\n",
    "This is when things start to get interesting.\n",
    "We simply have to loop over our data iterator, and feed the inputs to the\n",
    "network and optimize.\n",
    "\n"
   ]
  },
  {
   "cell_type": "code",
   "execution_count": 192,
   "metadata": {
    "colab": {
     "base_uri": "https://localhost:8080/"
    },
    "executionInfo": {
     "elapsed": 211139,
     "status": "ok",
     "timestamp": 1660839274668,
     "user": {
      "displayName": "Boley",
      "userId": "18022687292787804222"
     },
     "user_tz": -120
    },
    "id": "k-Qt2FM_KE-F",
    "outputId": "074e43a2-fb2d-4da2-9b7f-73af18d742e6"
   },
   "outputs": [
    {
     "name": "stdout",
     "output_type": "stream",
     "text": [
      "[1,    50] loss: 0.00050\n",
      "[1,   100] loss: 0.00048\n",
      "[1,   150] loss: 0.00040\n",
      "[1,   200] loss: 0.00018\n",
      "[1,   250] loss: 0.00027\n",
      "[1,   300] loss: 0.00077\n",
      "[2,    50] loss: 0.00033\n",
      "[2,   100] loss: 0.00041\n",
      "[2,   150] loss: 0.00019\n",
      "[2,   200] loss: 0.00029\n",
      "[2,   250] loss: 0.00028\n",
      "[2,   300] loss: 0.00022\n",
      "[3,    50] loss: 0.00018\n",
      "[3,   100] loss: 0.00047\n",
      "[3,   150] loss: 0.00025\n",
      "[3,   200] loss: 0.00025\n",
      "[3,   250] loss: 0.00028\n",
      "[3,   300] loss: 0.00032\n",
      "[4,    50] loss: 0.00027\n",
      "[4,   100] loss: 0.00032\n",
      "[4,   150] loss: 0.00034\n",
      "[4,   200] loss: 0.00024\n",
      "[4,   250] loss: 0.00037\n",
      "[4,   300] loss: 0.00029\n",
      "[5,    50] loss: 0.00019\n",
      "[5,   100] loss: 0.00035\n",
      "[5,   150] loss: 0.00025\n",
      "[5,   200] loss: 0.00024\n",
      "[5,   250] loss: 0.00016\n",
      "[5,   300] loss: 0.00030\n",
      "[6,    50] loss: 0.00025\n",
      "[6,   100] loss: 0.00020\n",
      "[6,   150] loss: 0.00014\n",
      "[6,   200] loss: 0.00027\n",
      "[6,   250] loss: 0.00023\n",
      "[6,   300] loss: 0.00023\n",
      "[7,    50] loss: 0.00027\n",
      "[7,   100] loss: 0.00018\n",
      "[7,   150] loss: 0.00016\n",
      "[7,   200] loss: 0.00023\n",
      "[7,   250] loss: 0.00014\n",
      "[7,   300] loss: 0.00020\n",
      "[8,    50] loss: 0.00015\n",
      "[8,   100] loss: 0.00026\n",
      "[8,   150] loss: 0.00032\n",
      "[8,   200] loss: 0.00015\n",
      "[8,   250] loss: 0.00034\n",
      "[8,   300] loss: 0.00022\n",
      "[9,    50] loss: 0.00017\n",
      "[9,   100] loss: 0.00019\n",
      "[9,   150] loss: 0.00013\n",
      "[9,   200] loss: 0.00024\n",
      "[9,   250] loss: 0.00025\n",
      "[9,   300] loss: 0.00023\n",
      "[10,    50] loss: 0.00035\n",
      "[10,   100] loss: 0.00025\n",
      "[10,   150] loss: 0.00014\n",
      "[10,   200] loss: 0.00024\n",
      "[10,   250] loss: 0.00021\n",
      "[10,   300] loss: 0.00027\n",
      "[11,    50] loss: 0.00021\n",
      "[11,   100] loss: 0.00022\n",
      "[11,   150] loss: 0.00015\n",
      "[11,   200] loss: 0.00014\n",
      "[11,   250] loss: 0.00021\n",
      "[11,   300] loss: 0.00012\n",
      "[12,    50] loss: 0.00020\n",
      "[12,   100] loss: 0.00023\n",
      "[12,   150] loss: 0.00013\n",
      "[12,   200] loss: 0.00025\n",
      "[12,   250] loss: 0.00013\n",
      "[12,   300] loss: 0.00011\n",
      "[13,    50] loss: 0.00013\n",
      "[13,   100] loss: 0.00012\n",
      "[13,   150] loss: 0.00017\n",
      "[13,   200] loss: 0.00023\n",
      "[13,   250] loss: 0.00017\n",
      "[13,   300] loss: 0.00015\n",
      "[14,    50] loss: 0.00014\n",
      "[14,   100] loss: 0.00024\n",
      "[14,   150] loss: 0.00016\n",
      "[14,   200] loss: 0.00015\n",
      "[14,   250] loss: 0.00016\n",
      "[14,   300] loss: 0.00024\n",
      "[15,    50] loss: 0.00019\n",
      "[15,   100] loss: 0.00011\n",
      "[15,   150] loss: 0.00016\n",
      "[15,   200] loss: 0.00013\n",
      "[15,   250] loss: 0.00013\n",
      "[15,   300] loss: 0.00020\n",
      "[16,    50] loss: 0.00021\n",
      "[16,   100] loss: 0.00022\n",
      "[16,   150] loss: 0.00017\n",
      "[16,   200] loss: 0.00024\n",
      "[16,   250] loss: 0.00015\n",
      "[16,   300] loss: 0.00009\n",
      "[17,    50] loss: 0.00012\n",
      "[17,   100] loss: 0.00022\n",
      "[17,   150] loss: 0.00011\n",
      "[17,   200] loss: 0.00012\n",
      "[17,   250] loss: 0.00017\n",
      "[17,   300] loss: 0.00016\n",
      "[18,    50] loss: 0.00016\n",
      "[18,   100] loss: 0.00010\n",
      "[18,   150] loss: 0.00021\n",
      "[18,   200] loss: 0.00019\n",
      "[18,   250] loss: 0.00009\n",
      "[18,   300] loss: 0.00020\n",
      "[19,    50] loss: 0.00010\n",
      "[19,   100] loss: 0.00019\n",
      "[19,   150] loss: 0.00013\n",
      "[19,   200] loss: 0.00012\n",
      "[19,   250] loss: 0.00014\n",
      "[19,   300] loss: 0.00010\n",
      "[20,    50] loss: 0.00034\n",
      "[20,   100] loss: 0.00013\n",
      "[20,   150] loss: 0.00010\n",
      "[20,   200] loss: 0.00016\n",
      "[20,   250] loss: 0.00015\n",
      "[20,   300] loss: 0.00016\n",
      "[21,    50] loss: 0.00011\n",
      "[21,   100] loss: 0.00016\n",
      "[21,   150] loss: 0.00012\n",
      "[21,   200] loss: 0.00010\n",
      "[21,   250] loss: 0.00017\n",
      "[21,   300] loss: 0.00014\n",
      "[22,    50] loss: 0.00014\n",
      "[22,   100] loss: 0.00016\n",
      "[22,   150] loss: 0.00013\n",
      "[22,   200] loss: 0.00011\n",
      "[22,   250] loss: 0.00020\n",
      "[22,   300] loss: 0.00036\n",
      "[23,    50] loss: 0.00010\n",
      "[23,   100] loss: 0.00008\n",
      "[23,   150] loss: 0.00016\n",
      "[23,   200] loss: 0.00015\n",
      "[23,   250] loss: 0.00016\n",
      "[23,   300] loss: 0.00037\n",
      "[24,    50] loss: 0.00011\n",
      "[24,   100] loss: 0.00012\n",
      "[24,   150] loss: 0.00010\n",
      "[24,   200] loss: 0.00031\n",
      "[24,   250] loss: 0.00011\n",
      "[24,   300] loss: 0.00016\n",
      "[25,    50] loss: 0.00012\n",
      "[25,   100] loss: 0.00017\n",
      "[25,   150] loss: 0.00010\n",
      "[25,   200] loss: 0.00015\n",
      "[25,   250] loss: 0.00013\n",
      "[25,   300] loss: 0.00008\n",
      "[26,    50] loss: 0.00009\n",
      "[26,   100] loss: 0.00013\n",
      "[26,   150] loss: 0.00008\n",
      "[26,   200] loss: 0.00019\n",
      "[26,   250] loss: 0.00012\n",
      "[26,   300] loss: 0.00021\n",
      "[27,    50] loss: 0.00013\n",
      "[27,   100] loss: 0.00014\n",
      "[27,   150] loss: 0.00020\n",
      "[27,   200] loss: 0.00013\n",
      "[27,   250] loss: 0.00007\n",
      "[27,   300] loss: 0.00015\n",
      "[28,    50] loss: 0.00012\n",
      "[28,   100] loss: 0.00011\n",
      "[28,   150] loss: 0.00011\n",
      "[28,   200] loss: 0.00014\n",
      "[28,   250] loss: 0.00011\n",
      "[28,   300] loss: 0.00024\n",
      "[29,    50] loss: 0.00013\n",
      "[29,   100] loss: 0.00015\n",
      "[29,   150] loss: 0.00011\n",
      "[29,   200] loss: 0.00042\n",
      "[29,   250] loss: 0.00012\n",
      "[29,   300] loss: 0.00014\n",
      "[30,    50] loss: 0.00008\n",
      "[30,   100] loss: 0.00008\n",
      "[30,   150] loss: 0.00008\n",
      "[30,   200] loss: 0.00011\n",
      "[30,   250] loss: 0.00014\n",
      "[30,   300] loss: 0.00027\n",
      "[31,    50] loss: 0.00013\n",
      "[31,   100] loss: 0.00011\n",
      "[31,   150] loss: 0.00015\n",
      "[31,   200] loss: 0.00012\n",
      "[31,   250] loss: 0.00016\n",
      "[31,   300] loss: 0.00009\n",
      "[32,    50] loss: 0.00018\n",
      "[32,   100] loss: 0.00012\n",
      "[32,   150] loss: 0.00016\n",
      "[32,   200] loss: 0.00016\n",
      "[32,   250] loss: 0.00012\n",
      "[32,   300] loss: 0.00015\n",
      "[33,    50] loss: 0.00012\n",
      "[33,   100] loss: 0.00014\n",
      "[33,   150] loss: 0.00018\n",
      "[33,   200] loss: 0.00010\n",
      "[33,   250] loss: 0.00012\n",
      "[33,   300] loss: 0.00015\n",
      "[34,    50] loss: 0.00025\n",
      "[34,   100] loss: 0.00013\n",
      "[34,   150] loss: 0.00014\n",
      "[34,   200] loss: 0.00020\n",
      "[34,   250] loss: 0.00008\n",
      "[34,   300] loss: 0.00008\n",
      "[35,    50] loss: 0.00020\n",
      "[35,   100] loss: 0.00017\n",
      "[35,   150] loss: 0.00011\n",
      "[35,   200] loss: 0.00023\n",
      "[35,   250] loss: 0.00011\n",
      "[35,   300] loss: 0.00015\n",
      "[36,    50] loss: 0.00012\n",
      "[36,   100] loss: 0.00014\n",
      "[36,   150] loss: 0.00012\n",
      "[36,   200] loss: 0.00009\n",
      "[36,   250] loss: 0.00015\n",
      "[36,   300] loss: 0.00018\n",
      "[37,    50] loss: 0.00009\n",
      "[37,   100] loss: 0.00015\n",
      "[37,   150] loss: 0.00009\n",
      "[37,   200] loss: 0.00012\n",
      "[37,   250] loss: 0.00009\n",
      "[37,   300] loss: 0.00009\n",
      "[38,    50] loss: 0.00015\n",
      "[38,   100] loss: 0.00007\n",
      "[38,   150] loss: 0.00017\n",
      "[38,   200] loss: 0.00010\n",
      "[38,   250] loss: 0.00023\n",
      "[38,   300] loss: 0.00011\n",
      "[39,    50] loss: 0.00008\n",
      "[39,   100] loss: 0.00013\n",
      "[39,   150] loss: 0.00017\n",
      "[39,   200] loss: 0.00011\n",
      "[39,   250] loss: 0.00052\n",
      "[39,   300] loss: 0.00013\n",
      "[40,    50] loss: 0.00010\n",
      "[40,   100] loss: 0.00018\n",
      "[40,   150] loss: 0.00014\n",
      "[40,   200] loss: 0.00010\n",
      "[40,   250] loss: 0.00010\n",
      "[40,   300] loss: 0.00013\n",
      "Finished Training\n"
     ]
    }
   ],
   "source": [
    "for epoch in range(40):  # loop over the dataset multiple times\n",
    "\n",
    "    running_loss = 0.0\n",
    "    for i, data in enumerate(trainloader, 0):\n",
    "        # get the inputs; data is a list of [inputs, labels]\n",
    "        inputs, labels = data\n",
    "        inputs = inputs.to(device)\n",
    "        labels = labels.to(device)\n",
    "\n",
    "        # zero the parameter gradients\n",
    "        optimizer.zero_grad()\n",
    "\n",
    "        # forward + backward + optimize\n",
    "        outputs = net(inputs).to(device)\n",
    "        loss = criterion(outputs, labels)\n",
    "        loss.backward()\n",
    "        optimizer.step()\n",
    "\n",
    "        # print statistics\n",
    "        running_loss += loss.item()\n",
    "        if i % 50 == 49:    # print every 200 mini-batches\n",
    "            print(f'[{epoch + 1}, {i + 1:5d}] loss: {running_loss / 2000:.5f}')\n",
    "            running_loss = 0.0\n",
    "\n",
    "print('Finished Training')"
   ]
  },
  {
   "cell_type": "markdown",
   "metadata": {
    "id": "naiIm21kKE-G"
   },
   "source": [
    "Let's quickly save our trained model:\n",
    "\n"
   ]
  },
  {
   "cell_type": "code",
   "execution_count": 193,
   "metadata": {
    "executionInfo": {
     "elapsed": 230,
     "status": "ok",
     "timestamp": 1660839284072,
     "user": {
      "displayName": "Boley",
      "userId": "18022687292787804222"
     },
     "user_tz": -120
    },
    "id": "BY-OMU6lKE-G"
   },
   "outputs": [],
   "source": [
    "PATH = './cifar_net.pth'\n",
    "torch.save(net.state_dict(), PATH)"
   ]
  },
  {
   "cell_type": "markdown",
   "metadata": {
    "id": "46hoUQy8KE-G"
   },
   "source": [
    "See `here <https://pytorch.org/docs/stable/notes/serialization.html>`_\n",
    "for more details on saving PyTorch models.\n",
    "\n",
    "5. Test the network on the test data\n",
    "^^^^^^^^^^^^^^^^^^^^^^^^^^^^^^^^^^^^\n",
    "\n",
    "We have trained the network for 2 passes over the training dataset.\n",
    "But we need to check if the network has learnt anything at all.\n",
    "\n",
    "We will check this by predicting the class label that the neural network\n",
    "outputs, and checking it against the ground-truth. If the prediction is\n",
    "correct, we add the sample to the list of correct predictions.\n",
    "\n",
    "Okay, first step. Let us display an image from the test set to get familiar.\n",
    "\n"
   ]
  },
  {
   "cell_type": "code",
   "execution_count": 194,
   "metadata": {
    "colab": {
     "base_uri": "https://localhost:8080/",
     "height": 154
    },
    "executionInfo": {
     "elapsed": 910,
     "status": "ok",
     "timestamp": 1660839286555,
     "user": {
      "displayName": "Boley",
      "userId": "18022687292787804222"
     },
     "user_tz": -120
    },
    "id": "czt6wBq3KE-H",
    "outputId": "1d727f50-39cd-4c56-d9b7-289b3adae84f"
   },
   "outputs": [
    {
     "data": {
      "image/png": "[encoded data removed]",
      "text/plain": [
       "<Figure size 432x288 with 1 Axes>"
      ]
     },
     "metadata": {
      "needs_background": "light"
     },
     "output_type": "display_data"
    },
    {
     "name": "stdout",
     "output_type": "stream",
     "text": [
      "GroundTruth:  mountain forest seal  mushroom\n"
     ]
    }
   ],
   "source": [
    "dataiter = iter(testloader)\n",
    "images, labels = dataiter.next()\n",
    "images = images.to(device)\n",
    "labels = labels.to(device)\n",
    "\n",
    "# print images\n",
    "imshow(torchvision.utils.make_grid(images.cpu()))\n",
    "print('GroundTruth: ', ' '.join(f'{classes[labels[j]]:5s}' for j in range(4)))"
   ]
  },
  {
   "cell_type": "markdown",
   "metadata": {
    "id": "2a7Axu5_KE-H"
   },
   "source": [
    "Next, let's load back in our saved model (note: saving and re-loading the model\n",
    "wasn't necessary here, we only did it to illustrate how to do so):\n",
    "\n"
   ]
  },
  {
   "cell_type": "code",
   "execution_count": 196,
   "metadata": {
    "colab": {
     "base_uri": "https://localhost:8080/"
    },
    "executionInfo": {
     "elapsed": 568,
     "status": "ok",
     "timestamp": 1660839314108,
     "user": {
      "displayName": "Boley",
      "userId": "18022687292787804222"
     },
     "user_tz": -120
    },
    "id": "-JzXk7MSKE-H",
    "outputId": "2478dd37-b3d7-47c0-c14a-12dda022ad78"
   },
   "outputs": [
    {
     "data": {
      "text/plain": [
       "<All keys matched successfully>"
      ]
     },
     "execution_count": 196,
     "metadata": {},
     "output_type": "execute_result"
    }
   ],
   "source": [
    "net = torchvision.models.resnet18()\n",
    "#net = Net()\n",
    "net.to(device)\n",
    "net.load_state_dict(torch.load(PATH))"
   ]
  },
  {
   "cell_type": "markdown",
   "metadata": {
    "id": "sEMdPuYQKE-I"
   },
   "source": [
    "Okay, now let us see what the neural network thinks these examples above are:\n",
    "\n"
   ]
  },
  {
   "cell_type": "code",
   "execution_count": 197,
   "metadata": {
    "executionInfo": {
     "elapsed": 215,
     "status": "ok",
     "timestamp": 1660839316105,
     "user": {
      "displayName": "Boley",
      "userId": "18022687292787804222"
     },
     "user_tz": -120
    },
    "id": "zJwi5vC9KE-I"
   },
   "outputs": [],
   "source": [
    "outputs = net(images).to(device)"
   ]
  },
  {
   "cell_type": "markdown",
   "metadata": {
    "id": "IaTD4t5BKE-L"
   },
   "source": [
    "The outputs are energies for the 10 classes.\n",
    "The higher the energy for a class, the more the network\n",
    "thinks that the image is of the particular class.\n",
    "So, let's get the index of the highest energy:\n",
    "\n"
   ]
  },
  {
   "cell_type": "code",
   "execution_count": 198,
   "metadata": {
    "colab": {
     "base_uri": "https://localhost:8080/"
    },
    "executionInfo": {
     "elapsed": 223,
     "status": "ok",
     "timestamp": 1660839317938,
     "user": {
      "displayName": "Boley",
      "userId": "18022687292787804222"
     },
     "user_tz": -120
    },
    "id": "zawNpG0fKE-L",
    "outputId": "eb68a718-b11c-47bf-bd5f-fd18e18bacf4"
   },
   "outputs": [
    {
     "name": "stdout",
     "output_type": "stream",
     "text": [
      "Predicted:  dolphin mouse sunflower orchid\n"
     ]
    }
   ],
   "source": [
    "_, predicted = torch.max(outputs, 1)\n",
    "\n",
    "print('Predicted: ', ' '.join(f'{classes[predicted[j]]:5s}'\n",
    "                              for j in range(4)))"
   ]
  },
  {
   "cell_type": "markdown",
   "metadata": {
    "id": "jgszzjaDKE-M"
   },
   "source": [
    "The results are not great.\n",
    "\n",
    "Let us look at how the network performs on the whole dataset.\n",
    "\n"
   ]
  },
  {
   "cell_type": "code",
   "execution_count": 199,
   "metadata": {
    "colab": {
     "base_uri": "https://localhost:8080/"
    },
    "executionInfo": {
     "elapsed": 5671,
     "status": "ok",
     "timestamp": 1660839326370,
     "user": {
      "displayName": "Boley",
      "userId": "18022687292787804222"
     },
     "user_tz": -120
    },
    "id": "EV3tOGYvKE-M",
    "outputId": "f7416ded-6ee5-487c-a7bc-d9292f436af8"
   },
   "outputs": [
    {
     "name": "stdout",
     "output_type": "stream",
     "text": [
      "Accuracy of the network on the test images: 12.000 %\n"
     ]
    }
   ],
   "source": [
    "correct = 0\n",
    "total = 0\n",
    "# since we're not training, we don't need to calculate the gradients for our outputs\n",
    "with torch.no_grad():\n",
    "    for data in testloader:\n",
    "        images, labels = data\n",
    "        images = images.to(device)\n",
    "        labels = labels.to(device)\n",
    "        # calculate outputs by running images through the network\n",
    "        outputs = net(images).to(device)\n",
    "        # the class with the highest energy is what we choose as prediction\n",
    "        _, predicted = torch.max(outputs.data, 1)\n",
    "        total += labels.size(0)\n",
    "        correct += (predicted == labels).sum().item()\n",
    "\n",
    "print(f'Accuracy of the network on the test images: {100 * correct // total:.3f} %')"
   ]
  },
  {
   "cell_type": "markdown",
   "metadata": {
    "id": "U7d0a71eKE-M"
   },
   "source": [
    "That looks way better than chance, which is 1% accuracy (randomly picking\n",
    "a class out of 100 classes).\n",
    "Seems like the network learnt something.\n",
    "\n",
    "Hmmm, what are the classes that performed well, and the classes that did\n",
    "not perform well:\n",
    "\n"
   ]
  },
  {
   "cell_type": "code",
   "execution_count": 133,
   "metadata": {
    "colab": {
     "base_uri": "https://localhost:8080/"
    },
    "executionInfo": {
     "elapsed": 3995,
     "status": "ok",
     "timestamp": 1660837254078,
     "user": {
      "displayName": "Boley",
      "userId": "18022687292787804222"
     },
     "user_tz": -120
    },
    "id": "guhdMm1yKE-M",
    "outputId": "9f78ab48-57cb-4920-b588-d8d24778fe2d"
   },
   "outputs": [
    {
     "name": "stdout",
     "output_type": "stream",
     "text": [
      "Accuracy for class: apple is 76.0 %\n",
      "Accuracy for class: aquarium_fish is 63.0 %\n",
      "Accuracy for class: baby  is 34.0 %\n",
      "Accuracy for class: bear  is 29.0 %\n",
      "Accuracy for class: beaver is 24.0 %\n",
      "Accuracy for class: bed   is 35.0 %\n",
      "Accuracy for class: bee   is 34.0 %\n",
      "Accuracy for class: beetle is 27.0 %\n",
      "Accuracy for class: bicycle is 33.0 %\n",
      "Accuracy for class: bottle is 36.0 %\n",
      "Accuracy for class: bowl  is 14.0 %\n",
      "Accuracy for class: boy   is 10.0 %\n",
      "Accuracy for class: bridge is 29.0 %\n",
      "Accuracy for class: bus   is 22.0 %\n",
      "Accuracy for class: butterfly is 15.0 %\n",
      "Accuracy for class: camel is 10.0 %\n",
      "Accuracy for class: can   is 20.0 %\n",
      "Accuracy for class: castle is 40.0 %\n",
      "Accuracy for class: caterpillar is 28.0 %\n",
      "Accuracy for class: cattle is 12.0 %\n",
      "Accuracy for class: chair is 26.0 %\n",
      "Accuracy for class: chimpanzee is 16.0 %\n",
      "Accuracy for class: clock is 18.0 %\n",
      "Accuracy for class: cloud is 29.0 %\n",
      "Accuracy for class: cockroach is 38.0 %\n",
      "Accuracy for class: couch is 11.0 %\n",
      "Accuracy for class: crab  is 10.0 %\n",
      "Accuracy for class: crocodile is 8.0 %\n",
      "Accuracy for class: cup   is 29.0 %\n",
      "Accuracy for class: dinosaur is 11.0 %\n",
      "Accuracy for class: dolphin is 45.0 %\n",
      "Accuracy for class: elephant is 9.0 %\n",
      "Accuracy for class: flatfish is 2.0 %\n",
      "Accuracy for class: forest is 14.0 %\n",
      "Accuracy for class: fox   is 7.0 %\n",
      "Accuracy for class: girl  is 3.0 %\n",
      "Accuracy for class: hamster is 8.0 %\n",
      "Accuracy for class: house is 3.0 %\n",
      "Accuracy for class: kangaroo is 5.0 %\n",
      "Accuracy for class: keyboard is 11.0 %\n",
      "Accuracy for class: lamp  is 2.0 %\n",
      "Accuracy for class: lawn_mower is 25.0 %\n",
      "Accuracy for class: leopard is 4.0 %\n",
      "Accuracy for class: lion  is 4.0 %\n",
      "Accuracy for class: lizard is 1.0 %\n",
      "Accuracy for class: lobster is 2.0 %\n",
      "Accuracy for class: man   is 0.0 %\n",
      "Accuracy for class: maple_tree is 11.0 %\n",
      "Accuracy for class: motorcycle is 5.0 %\n",
      "Accuracy for class: mountain is 5.0 %\n",
      "Accuracy for class: mouse is 0.0 %\n",
      "Accuracy for class: mushroom is 1.0 %\n",
      "Accuracy for class: oak_tree is 44.0 %\n",
      "Accuracy for class: orange is 13.0 %\n",
      "Accuracy for class: orchid is 0.0 %\n",
      "Accuracy for class: otter is 0.0 %\n",
      "Accuracy for class: palm_tree is 3.0 %\n",
      "Accuracy for class: pear  is 4.0 %\n",
      "Accuracy for class: pickup_truck is 0.0 %\n",
      "Accuracy for class: pine_tree is 14.0 %\n",
      "Accuracy for class: plain is 19.0 %\n",
      "Accuracy for class: plate is 1.0 %\n",
      "Accuracy for class: poppy is 5.0 %\n",
      "Accuracy for class: porcupine is 1.0 %\n",
      "Accuracy for class: possum is 0.0 %\n",
      "Accuracy for class: rabbit is 0.0 %\n",
      "Accuracy for class: raccoon is 0.0 %\n",
      "Accuracy for class: ray   is 1.0 %\n",
      "Accuracy for class: road  is 11.0 %\n",
      "Accuracy for class: rocket is 3.0 %\n",
      "Accuracy for class: rose  is 4.0 %\n",
      "Accuracy for class: sea   is 4.0 %\n",
      "Accuracy for class: seal  is 0.0 %\n",
      "Accuracy for class: shark is 7.0 %\n",
      "Accuracy for class: shrew is 0.0 %\n",
      "Accuracy for class: skunk is 1.0 %\n",
      "Accuracy for class: skyscraper is 5.0 %\n",
      "Accuracy for class: snail is 0.0 %\n",
      "Accuracy for class: snake is 1.0 %\n",
      "Accuracy for class: spider is 0.0 %\n",
      "Accuracy for class: squirrel is 0.0 %\n",
      "Accuracy for class: streetcar is 0.0 %\n",
      "Accuracy for class: sunflower is 2.0 %\n",
      "Accuracy for class: sweet_pepper is 0.0 %\n",
      "Accuracy for class: table is 0.0 %\n",
      "Accuracy for class: tank  is 1.0 %\n",
      "Accuracy for class: telephone is 5.0 %\n",
      "Accuracy for class: television is 0.0 %\n",
      "Accuracy for class: tiger is 0.0 %\n",
      "Accuracy for class: tractor is 0.0 %\n",
      "Accuracy for class: train is 0.0 %\n",
      "Accuracy for class: trout is 0.0 %\n",
      "Accuracy for class: tulip is 1.0 %\n",
      "Accuracy for class: turtle is 0.0 %\n",
      "Accuracy for class: wardrobe is 0.0 %\n",
      "Accuracy for class: whale is 1.0 %\n",
      "Accuracy for class: willow_tree is 0.0 %\n",
      "Accuracy for class: wolf  is 0.0 %\n",
      "Accuracy for class: woman is 0.0 %\n",
      "Accuracy for class: worm  is 0.0 %\n"
     ]
    }
   ],
   "source": [
    "# prepare to count predictions for each class\n",
    "correct_pred = {classname: 0 for classname in classes}\n",
    "total_pred = {classname: 0 for classname in classes}\n",
    "\n",
    "# again no gradients needed\n",
    "with torch.no_grad():\n",
    "    for data in testloader:\n",
    "        images, labels = data\n",
    "        images = images.to(device)\n",
    "        labels = labels.to(device)\n",
    "        outputs = net(images).to(device)\n",
    "        _, predictions = torch.max(outputs, 1)\n",
    "        # collect the correct predictions for each class\n",
    "        for label, prediction in zip(labels, predictions):\n",
    "            if label == prediction:\n",
    "                correct_pred[classes[label]] += 1\n",
    "            total_pred[classes[label]] += 1\n",
    "\n",
    "\n",
    "# print accuracy for each class\n",
    "for classname, correct_count in correct_pred.items():\n",
    "    if total_pred[classname] != 0:\n",
    "        accuracy = 100 * float(correct_count) / total_pred[classname]\n",
    "        print(f'Accuracy for class: {classname:5s} is {accuracy:.1f} %')\n",
    "    else:\n",
    "        print(f' {classname:5s} is {total_pred[classname]:.1f}')"
   ]
  },
  {
   "cell_type": "markdown",
   "metadata": {
    "id": "JFgwD0rMKE-M"
   },
   "source": [
    "Okay, so what next?\n",
    "\n",
    "How do we run these neural networks on the GPU?\n",
    "\n",
    "Training on GPU\n",
    "----------------\n",
    "Just like how you transfer a Tensor onto the GPU, you transfer the neural\n",
    "net onto the GPU.\n",
    "\n",
    "Let's first define our device as the first visible cuda device if we have\n",
    "CUDA available:\n",
    "\n"
   ]
  },
  {
   "cell_type": "code",
   "execution_count": null,
   "metadata": {
    "colab": {
     "base_uri": "https://localhost:8080/"
    },
    "executionInfo": {
     "elapsed": 8,
     "status": "ok",
     "timestamp": 1660751131559,
     "user": {
      "displayName": "Boley",
      "userId": "18022687292787804222"
     },
     "user_tz": -120
    },
    "id": "A3QLUQXuKE-N",
    "outputId": "accf95ff-0fc2-401e-ef6c-a291b5399e2d"
   },
   "outputs": [
    {
     "name": "stdout",
     "output_type": "stream",
     "text": [
      "cuda:0\n"
     ]
    }
   ],
   "source": [
    "device = torch.device('cuda:0' if torch.cuda.is_available() else 'cpu')\n",
    "\n",
    "# Assuming that we are on a CUDA machine, this should print a CUDA device:\n",
    "\n",
    "print(device)"
   ]
  },
  {
   "cell_type": "code",
   "execution_count": null,
   "metadata": {
    "colab": {
     "base_uri": "https://localhost:8080/"
    },
    "executionInfo": {
     "elapsed": 3798,
     "status": "ok",
     "timestamp": 1660747715909,
     "user": {
      "displayName": "Boley",
      "userId": "18022687292787804222"
     },
     "user_tz": -120
    },
    "id": "qFOut3BIRs8i",
    "outputId": "53c1042b-80dc-4927-f0d7-fde639706a5c"
   },
   "outputs": [
    {
     "data": {
      "text/plain": [
       "Net(\n",
       "  (conv1): Conv2d(3, 6, kernel_size=(5, 5), stride=(1, 1))\n",
       "  (pool): MaxPool2d(kernel_size=2, stride=2, padding=0, dilation=1, ceil_mode=False)\n",
       "  (conv2): Conv2d(6, 16, kernel_size=(5, 5), stride=(1, 1))\n",
       "  (fc1): Linear(in_features=400, out_features=120, bias=True)\n",
       "  (fc2): Linear(in_features=120, out_features=84, bias=True)\n",
       "  (fc3): Linear(in_features=84, out_features=10, bias=True)\n",
       ")"
      ]
     },
     "execution_count": 17,
     "metadata": {},
     "output_type": "execute_result"
    }
   ],
   "source": [
    "net.to(device)"
   ]
  },
  {
   "cell_type": "markdown",
   "metadata": {
    "id": "C4vir25mKE-N"
   },
   "source": [
    "The rest of this section assumes that ``device`` is a CUDA device.\n",
    "\n",
    "Then these methods will recursively go over all modules and convert their\n",
    "parameters and buffers to CUDA tensors:\n",
    "\n",
    ".. code:: python\n",
    "\n",
    "    net.to(device)\n",
    "\n",
    "\n",
    "Remember that you will have to send the inputs and targets at every step\n",
    "to the GPU too:\n",
    "\n",
    ".. code:: python\n",
    "\n",
    "        inputs, labels = data[0].to(device), data[1].to(device)\n",
    "\n",
    "Why don't I notice MASSIVE speedup compared to CPU? Because your network\n",
    "is really small.\n",
    "\n",
    "**Exercise:** Try increasing the width of your network (argument 2 of\n",
    "the first ``nn.Conv2d``, and argument 1 of the second ``nn.Conv2d`` –\n",
    "they need to be the same number), see what kind of speedup you get.\n",
    "\n",
    "**Goals achieved**:\n",
    "\n",
    "- Understanding PyTorch's Tensor library and neural networks at a high level.\n",
    "- Train a small neural network to classify images\n",
    "\n",
    "Training on multiple GPUs\n",
    "-------------------------\n",
    "If you want to see even more MASSIVE speedup using all of your GPUs,\n",
    "please check out :doc:`data_parallel_tutorial`.\n",
    "\n",
    "Where do I go next?\n",
    "-------------------\n",
    "\n",
    "-  :doc:`Train neural nets to play video games </intermediate/reinforcement_q_learning>`\n",
    "-  `Train a state-of-the-art ResNet network on imagenet`_\n",
    "-  `Train a face generator using Generative Adversarial Networks`_\n",
    "-  `Train a word-level language model using Recurrent LSTM networks`_\n",
    "-  `More examples`_\n",
    "-  `More tutorials`_\n",
    "-  `Discuss PyTorch on the Forums`_\n",
    "-  `Chat with other users on Slack`_\n",
    "\n",
    "\n"
   ]
  },
  {
   "cell_type": "code",
   "execution_count": null,
   "metadata": {
    "id": "B7qnn5tRR2kq"
   },
   "outputs": [],
   "source": [
    "    inputs, labels = data[0].to(device), data[1].to(device)\n"
   ]
  },
  {
   "cell_type": "code",
   "execution_count": null,
   "metadata": {
    "id": "-0ymfWliR0FK"
   },
   "outputs": [],
   "source": []
  },
  {
   "cell_type": "code",
   "execution_count": null,
   "metadata": {
    "id": "5CNDXxJLKE-N"
   },
   "outputs": [],
   "source": []
  }
 ],
 "metadata": {
  "accelerator": "GPU",
  "colab": {
   "collapsed_sections": [],
   "name": "Final_Datasets_training.ipynb",
   "provenance": [
    {
     "file_id": "1b0DpZqjHKLZYbsN8Ro5gfIk-N4shzgjo",
     "timestamp": 1660819731568
    },
    {
     "file_id": "1duvgG-LwKNzm64FkwF8C4Mr9jU4lcZy2",
     "timestamp": 1660750354303
    },
    {
     "file_id": "https://github.com/pytorch/tutorials/blob/gh-pages/_downloads/4e865243430a47a00d551ca0579a6f6c/cifar10_tutorial.ipynb",
     "timestamp": 1660746644951
    }
   ]
  },
  "gpuClass": "standard",
  "kernelspec": {
   "display_name": "Python 3",
   "language": "python",
   "name": "python3"
  },
  "language_info": {
   "codemirror_mode": {
    "name": "ipython",
    "version": 3
   },
   "file_extension": ".py",
   "mimetype": "text/x-python",
   "name": "python",
   "nbconvert_exporter": "python",
   "pygments_lexer": "ipython3",
   "version": "3.8.5"
  }
 },
 "nbformat": 4,
 "nbformat_minor": 1
}
