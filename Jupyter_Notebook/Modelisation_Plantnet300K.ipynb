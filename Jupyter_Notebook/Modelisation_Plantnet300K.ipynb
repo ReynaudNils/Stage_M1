{
 "cells": [
  {
   "cell_type": "code",
   "execution_count": 1,
   "metadata": {},
   "outputs": [],
   "source": [
    "import pandas\n",
    "import random\n",
    "df = pandas.read_csv('Especes.csv')"
   ]
  },
  {
   "cell_type": "code",
   "execution_count": 2,
   "metadata": {},
   "outputs": [
    {
     "data": {
      "text/html": [
       "<div>\n",
       "<style scoped>\n",
       "    .dataframe tbody tr th:only-of-type {\n",
       "        vertical-align: middle;\n",
       "    }\n",
       "\n",
       "    .dataframe tbody tr th {\n",
       "        vertical-align: top;\n",
       "    }\n",
       "\n",
       "    .dataframe thead th {\n",
       "        text-align: right;\n",
       "    }\n",
       "</style>\n",
       "<table border=\"1\" class=\"dataframe\">\n",
       "  <thead>\n",
       "    <tr style=\"text-align: right;\">\n",
       "      <th></th>\n",
       "      <th>Nom_Plante</th>\n",
       "      <th>Images_Plante</th>\n",
       "    </tr>\n",
       "  </thead>\n",
       "  <tbody>\n",
       "    <tr>\n",
       "      <th>0</th>\n",
       "      <td>Daucus_carota</td>\n",
       "      <td>9012</td>\n",
       "    </tr>\n",
       "    <tr>\n",
       "      <th>1</th>\n",
       "      <td>Alliaria_petiolata</td>\n",
       "      <td>7922</td>\n",
       "    </tr>\n",
       "    <tr>\n",
       "      <th>2</th>\n",
       "      <td>Hypericum_perforatum</td>\n",
       "      <td>7675</td>\n",
       "    </tr>\n",
       "    <tr>\n",
       "      <th>3</th>\n",
       "      <td>Centranthus_ruber</td>\n",
       "      <td>6670</td>\n",
       "    </tr>\n",
       "    <tr>\n",
       "      <th>4</th>\n",
       "      <td>Cirsium_vulgare</td>\n",
       "      <td>6474</td>\n",
       "    </tr>\n",
       "    <tr>\n",
       "      <th>...</th>\n",
       "      <td>...</td>\n",
       "      <td>...</td>\n",
       "    </tr>\n",
       "    <tr>\n",
       "      <th>1076</th>\n",
       "      <td>Hernandia_nymphaeifolia</td>\n",
       "      <td>4</td>\n",
       "    </tr>\n",
       "    <tr>\n",
       "      <th>1077</th>\n",
       "      <td>Melampodium_perfoliatum</td>\n",
       "      <td>4</td>\n",
       "    </tr>\n",
       "    <tr>\n",
       "      <th>1078</th>\n",
       "      <td>Browallia_speciosa</td>\n",
       "      <td>4</td>\n",
       "    </tr>\n",
       "    <tr>\n",
       "      <th>1079</th>\n",
       "      <td>Pancratium_canariense</td>\n",
       "      <td>4</td>\n",
       "    </tr>\n",
       "    <tr>\n",
       "      <th>1080</th>\n",
       "      <td>Acacia_senegalensis</td>\n",
       "      <td>4</td>\n",
       "    </tr>\n",
       "  </tbody>\n",
       "</table>\n",
       "<p>1081 rows × 2 columns</p>\n",
       "</div>"
      ],
      "text/plain": [
       "                   Nom_Plante  Images_Plante\n",
       "0               Daucus_carota           9012\n",
       "1          Alliaria_petiolata           7922\n",
       "2        Hypericum_perforatum           7675\n",
       "3           Centranthus_ruber           6670\n",
       "4             Cirsium_vulgare           6474\n",
       "...                       ...            ...\n",
       "1076  Hernandia_nymphaeifolia              4\n",
       "1077  Melampodium_perfoliatum              4\n",
       "1078       Browallia_speciosa              4\n",
       "1079    Pancratium_canariense              4\n",
       "1080      Acacia_senegalensis              4\n",
       "\n",
       "[1081 rows x 2 columns]"
      ]
     },
     "execution_count": 2,
     "metadata": {},
     "output_type": "execute_result"
    }
   ],
   "source": [
    "df"
   ]
  },
  {
   "cell_type": "code",
   "execution_count": 3,
   "metadata": {},
   "outputs": [],
   "source": [
    "df['Rank']=df['Images_Plante'].rank(ascending=0)"
   ]
  },
  {
   "cell_type": "code",
   "execution_count": 4,
   "metadata": {},
   "outputs": [
    {
     "data": {
      "text/plain": [
       "[<matplotlib.lines.Line2D at 0x1bf8876fd00>]"
      ]
     },
     "execution_count": 4,
     "metadata": {},
     "output_type": "execute_result"
    },
    {
     "data": {
      "image/png": "[encoded data removed]",
      "text/plain": [
       "<Figure size 432x288 with 1 Axes>"
      ]
     },
     "metadata": {
      "needs_background": "light"
     },
     "output_type": "display_data"
    }
   ],
   "source": [
    "import matplotlib.pyplot as plt\n",
    "plt.yscale('log')\n",
    "plt.plot(df['Rank'], df['Images_Plante'])"
   ]
  },
  {
   "cell_type": "code",
   "execution_count": 5,
   "metadata": {},
   "outputs": [
    {
     "data": {
      "text/plain": [
       "0          1.0\n",
       "1          2.0\n",
       "2          3.0\n",
       "3          4.0\n",
       "4          5.0\n",
       "         ...  \n",
       "1076    1040.0\n",
       "1077    1040.0\n",
       "1078    1040.0\n",
       "1079    1040.0\n",
       "1080    1040.0\n",
       "Name: Rank, Length: 1081, dtype: float64"
      ]
     },
     "execution_count": 5,
     "metadata": {},
     "output_type": "execute_result"
    }
   ],
   "source": [
    "df['Rank']"
   ]
  },
  {
   "cell_type": "code",
   "execution_count": 6,
   "metadata": {},
   "outputs": [],
   "source": [
    "from scipy.optimize import minimize\n",
    "import math as m"
   ]
  },
  {
   "cell_type": "code",
   "execution_count": 7,
   "metadata": {},
   "outputs": [
    {
     "name": "stdout",
     "output_type": "stream",
     "text": [
      "2\n"
     ]
    },
    {
     "ename": "UnboundLocalError",
     "evalue": "local variable 'H' referenced before assignment",
     "output_type": "error",
     "traceback": [
      "\u001b[1;31m---------------------------------------------------------------------------\u001b[0m",
      "\u001b[1;31mUnboundLocalError\u001b[0m                         Traceback (most recent call last)",
      "Input \u001b[1;32mIn [7]\u001b[0m, in \u001b[0;36m<cell line: 21>\u001b[1;34m()\u001b[0m\n\u001b[0;32m     11\u001b[0m   H \u001b[38;5;241m=\u001b[39m  \u001b[38;5;28msum\u001b[39m(\u001b[38;5;241m1\u001b[39m\u001b[38;5;241m/\u001b[39m\u001b[38;5;28mpow\u001b[39m(k \u001b[38;5;241m+\u001b[39m parms[\u001b[38;5;241m0\u001b[39m],parms[\u001b[38;5;241m1\u001b[39m]) \u001b[38;5;28;01mfor\u001b[39;00m k \u001b[38;5;129;01min\u001b[39;00m \u001b[38;5;28mrange\u001b[39m(\u001b[38;5;241m1\u001b[39m, N)) \u001b[38;5;241m-\u001b[39m \u001b[38;5;28msum\u001b[39m(m\u001b[38;5;241m.\u001b[39mlog(\u001b[38;5;241m1\u001b[39m\u001b[38;5;241m/\u001b[39m\u001b[38;5;28mpow\u001b[39m(x \u001b[38;5;241m+\u001b[39m parms[\u001b[38;5;241m0\u001b[39m],parms[\u001b[38;5;241m1\u001b[39m]\u001b[38;5;241m/\u001b[39mH))) \n\u001b[0;32m     14\u001b[0m \u001b[38;5;66;03m## generate pmf for sampling\u001b[39;00m\n\u001b[0;32m     15\u001b[0m \u001b[38;5;66;03m#plt.plot(range(1, 10), -negloglik([5,5], e))\u001b[39;00m\n\u001b[0;32m     16\u001b[0m \n\u001b[1;32m   (...)\u001b[0m\n\u001b[0;32m     19\u001b[0m \n\u001b[0;32m     20\u001b[0m \u001b[38;5;66;03m## calculate ml estimates\u001b[39;00m\n\u001b[1;32m---> 21\u001b[0m Res \u001b[38;5;241m=\u001b[39m minimize(\u001b[43mnegloglik\u001b[49m\u001b[43m(\u001b[49m\u001b[43m[\u001b[49m\u001b[38;5;241;43m20\u001b[39;49m\u001b[43m,\u001b[49m\u001b[38;5;241;43m20\u001b[39;49m\u001b[43m]\u001b[49m\u001b[43m,\u001b[49m\u001b[43m \u001b[49m\u001b[43mdf\u001b[49m\u001b[43m[\u001b[49m\u001b[38;5;124;43m'\u001b[39;49m\u001b[38;5;124;43mImages_Plante\u001b[39;49m\u001b[38;5;124;43m'\u001b[39;49m\u001b[43m]\u001b[49m\u001b[43m[\u001b[49m\u001b[38;5;241;43m0\u001b[39;49m\u001b[43m:\u001b[49m\u001b[43mn_extr\u001b[49m\u001b[43m]\u001b[49m\u001b[43m)\u001b[49m, p\u001b[38;5;241m=\u001b[39m[\u001b[38;5;241m20\u001b[39m,\u001b[38;5;241m20\u001b[39m])\n",
      "Input \u001b[1;32mIn [7]\u001b[0m, in \u001b[0;36mnegloglik\u001b[1;34m(parms, x)\u001b[0m\n\u001b[0;32m     10\u001b[0m \u001b[38;5;28;01mdef\u001b[39;00m \u001b[38;5;21mnegloglik\u001b[39m(parms, x):\n\u001b[1;32m---> 11\u001b[0m   H \u001b[38;5;241m=\u001b[39m  \u001b[38;5;28msum\u001b[39m(\u001b[38;5;241m1\u001b[39m\u001b[38;5;241m/\u001b[39m\u001b[38;5;28mpow\u001b[39m(k \u001b[38;5;241m+\u001b[39m parms[\u001b[38;5;241m0\u001b[39m],parms[\u001b[38;5;241m1\u001b[39m]) \u001b[38;5;28;01mfor\u001b[39;00m k \u001b[38;5;129;01min\u001b[39;00m \u001b[38;5;28mrange\u001b[39m(\u001b[38;5;241m1\u001b[39m, N)) \u001b[38;5;241m-\u001b[39m \u001b[38;5;28msum\u001b[39m(m\u001b[38;5;241m.\u001b[39mlog(\u001b[38;5;241m1\u001b[39m\u001b[38;5;241m/\u001b[39m\u001b[38;5;28mpow\u001b[39m(x \u001b[38;5;241m+\u001b[39m parms[\u001b[38;5;241m0\u001b[39m],parms[\u001b[38;5;241m1\u001b[39m]\u001b[38;5;241m/\u001b[39m\u001b[43mH\u001b[49m)))\n",
      "\u001b[1;31mUnboundLocalError\u001b[0m: local variable 'H' referenced before assignment"
     ]
    }
   ],
   "source": [
    "random.seed(1234)\n",
    "\n",
    "## set a N\n",
    "n_extr=2\n",
    "N = len(df['Rank'][0:n_extr])\n",
    "print(N)\n",
    "# N <- 10\n",
    "\n",
    "## populate the negative log likelihood function for the Zipf-Mandelbrot model\n",
    "def negloglik(parms, x):\n",
    "  H =  sum(1/pow(k + parms[0],parms[1]) for k in range(1, N)) - sum(m.log(1/pow(x + parms[0],parms[1]/H))) \n",
    "\n",
    "\n",
    "## generate pmf for sampling\n",
    "#plt.plot(range(1, 10), -negloglik([5,5], e))\n",
    "\n",
    "## draw a random sample with n=1000\n",
    "#e <- sample(range(1, 10), 1000, replace = T, prob = d)\n",
    "\n",
    "## calculate ml estimates\n",
    "Res = minimize(negloglik([20,20], df['Images_Plante'][0:n_extr]), p=[20,20])\n",
    "#ml\n",
    "\n",
    "## generate pmf for sampling\n",
    "#plot(d <- sapply(1:58, function(x) exp(-negloglik(ml$estimate, x))))"
   ]
  },
  {
   "cell_type": "code",
   "execution_count": null,
   "metadata": {},
   "outputs": [],
   "source": [
    "minimize?"
   ]
  },
  {
   "cell_type": "code",
   "execution_count": null,
   "metadata": {},
   "outputs": [],
   "source": []
  }
 ],
 "metadata": {
  "kernelspec": {
   "display_name": "Python (pytorch)",
   "language": "python",
   "name": "pytorch"
  },
  "language_info": {
   "codemirror_mode": {
    "name": "ipython",
    "version": 3
   },
   "file_extension": ".py",
   "mimetype": "text/x-python",
   "name": "python",
   "nbconvert_exporter": "python",
   "pygments_lexer": "ipython3",
   "version": "3.10.4"
  }
 },
 "nbformat": 4,
 "nbformat_minor": 4
}
