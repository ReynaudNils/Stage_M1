{
 "cells": [
  {
   "cell_type": "code",
   "execution_count": 1,
   "metadata": {},
   "outputs": [],
   "source": [
    "import pandas\n",
    "import random\n",
    "df = pandas.read_csv('Donnees_CSV/Especes.csv')"
   ]
  },
  {
   "cell_type": "code",
   "execution_count": 2,
   "metadata": {},
   "outputs": [
    {
     "data": {
      "text/html": [
       "<div>\n",
       "<style scoped>\n",
       "    .dataframe tbody tr th:only-of-type {\n",
       "        vertical-align: middle;\n",
       "    }\n",
       "\n",
       "    .dataframe tbody tr th {\n",
       "        vertical-align: top;\n",
       "    }\n",
       "\n",
       "    .dataframe thead th {\n",
       "        text-align: right;\n",
       "    }\n",
       "</style>\n",
       "<table border=\"1\" class=\"dataframe\">\n",
       "  <thead>\n",
       "    <tr style=\"text-align: right;\">\n",
       "      <th></th>\n",
       "      <th>Nom_Plante</th>\n",
       "      <th>Images_Plante</th>\n",
       "    </tr>\n",
       "  </thead>\n",
       "  <tbody>\n",
       "    <tr>\n",
       "      <th>0</th>\n",
       "      <td>Daucus_carota</td>\n",
       "      <td>9012</td>\n",
       "    </tr>\n",
       "    <tr>\n",
       "      <th>1</th>\n",
       "      <td>Alliaria_petiolata</td>\n",
       "      <td>7922</td>\n",
       "    </tr>\n",
       "    <tr>\n",
       "      <th>2</th>\n",
       "      <td>Hypericum_perforatum</td>\n",
       "      <td>7675</td>\n",
       "    </tr>\n",
       "    <tr>\n",
       "      <th>3</th>\n",
       "      <td>Centranthus_ruber</td>\n",
       "      <td>6670</td>\n",
       "    </tr>\n",
       "    <tr>\n",
       "      <th>4</th>\n",
       "      <td>Cirsium_vulgare</td>\n",
       "      <td>6474</td>\n",
       "    </tr>\n",
       "    <tr>\n",
       "      <th>...</th>\n",
       "      <td>...</td>\n",
       "      <td>...</td>\n",
       "    </tr>\n",
       "    <tr>\n",
       "      <th>1076</th>\n",
       "      <td>Hernandia_nymphaeifolia</td>\n",
       "      <td>4</td>\n",
       "    </tr>\n",
       "    <tr>\n",
       "      <th>1077</th>\n",
       "      <td>Melampodium_perfoliatum</td>\n",
       "      <td>4</td>\n",
       "    </tr>\n",
       "    <tr>\n",
       "      <th>1078</th>\n",
       "      <td>Browallia_speciosa</td>\n",
       "      <td>4</td>\n",
       "    </tr>\n",
       "    <tr>\n",
       "      <th>1079</th>\n",
       "      <td>Pancratium_canariense</td>\n",
       "      <td>4</td>\n",
       "    </tr>\n",
       "    <tr>\n",
       "      <th>1080</th>\n",
       "      <td>Acacia_senegalensis</td>\n",
       "      <td>4</td>\n",
       "    </tr>\n",
       "  </tbody>\n",
       "</table>\n",
       "<p>1081 rows × 2 columns</p>\n",
       "</div>"
      ],
      "text/plain": [
       "                   Nom_Plante  Images_Plante\n",
       "0               Daucus_carota           9012\n",
       "1          Alliaria_petiolata           7922\n",
       "2        Hypericum_perforatum           7675\n",
       "3           Centranthus_ruber           6670\n",
       "4             Cirsium_vulgare           6474\n",
       "...                       ...            ...\n",
       "1076  Hernandia_nymphaeifolia              4\n",
       "1077  Melampodium_perfoliatum              4\n",
       "1078       Browallia_speciosa              4\n",
       "1079    Pancratium_canariense              4\n",
       "1080      Acacia_senegalensis              4\n",
       "\n",
       "[1081 rows x 2 columns]"
      ]
     },
     "execution_count": 2,
     "metadata": {},
     "output_type": "execute_result"
    }
   ],
   "source": [
    "df"
   ]
  },
  {
   "cell_type": "code",
   "execution_count": 3,
   "metadata": {},
   "outputs": [],
   "source": [
    "df['Rank']=df['Images_Plante'].rank(ascending=0)"
   ]
  },
  {
   "cell_type": "code",
   "execution_count": 4,
   "metadata": {},
   "outputs": [
    {
     "data": {
      "text/plain": [
       "[<matplotlib.lines.Line2D at 0x2230f7abdc0>]"
      ]
     },
     "execution_count": 4,
     "metadata": {},
     "output_type": "execute_result"
    },
    {
     "data": {
      "image/png": "[encoded data removed]",
      "text/plain": [
       "<Figure size 432x288 with 1 Axes>"
      ]
     },
     "metadata": {
      "needs_background": "light"
     },
     "output_type": "display_data"
    }
   ],
   "source": [
    "import matplotlib.pyplot as plt\n",
    "plt.yscale('log')\n",
    "plt.plot(df['Rank'], df['Images_Plante'])"
   ]
  },
  {
   "cell_type": "code",
   "execution_count": 33,
   "metadata": {},
   "outputs": [
    {
     "data": {
      "text/plain": [
       "[<matplotlib.lines.Line2D at 0x2230ea8e3b0>]"
      ]
     },
     "execution_count": 33,
     "metadata": {},
     "output_type": "execute_result"
    },
    {
     "data": {
      "image/png": "[encoded data removed]",
      "text/plain": [
       "<Figure size 432x288 with 1 Axes>"
      ]
     },
     "metadata": {
      "needs_background": "light"
     },
     "output_type": "display_data"
    }
   ],
   "source": [
    "plt.plot(df['Images_Plante'])"
   ]
  },
  {
   "cell_type": "code",
   "execution_count": 5,
   "metadata": {},
   "outputs": [
    {
     "data": {
      "text/plain": [
       "0          1.0\n",
       "1          2.0\n",
       "2          3.0\n",
       "3          4.0\n",
       "4          5.0\n",
       "         ...  \n",
       "1076    1040.0\n",
       "1077    1040.0\n",
       "1078    1040.0\n",
       "1079    1040.0\n",
       "1080    1040.0\n",
       "Name: Rank, Length: 1081, dtype: float64"
      ]
     },
     "execution_count": 5,
     "metadata": {},
     "output_type": "execute_result"
    }
   ],
   "source": [
    "df['Rank']"
   ]
  },
  {
   "cell_type": "code",
   "execution_count": 6,
   "metadata": {},
   "outputs": [],
   "source": [
    "from scipy.optimize import minimize\n",
    "import math as m"
   ]
  },
  {
   "cell_type": "code",
   "execution_count": 7,
   "metadata": {},
   "outputs": [],
   "source": [
    "#random.seed(1234)\n",
    "\n",
    "## set a N\n",
    "#n_extr=2\n",
    "#N = len(df['Rank'][0:n_extr])\n",
    "#print(N)\n",
    "# N <- 10\n",
    "\n",
    "## populate the negative log likelihood function for the Zipf-Mandelbrot model\n",
    "#def negloglik(parms, x):\n",
    "#  H =  sum(1/pow(k + parms[0],parms[1]) for k in range(1, N)) - sum(m.log(1/pow(x + parms[0],parms[1]/H))) \n",
    "\n",
    "\n",
    "## generate pmf for sampling\n",
    "#plt.plot(range(1, 10), -negloglik([5,5], e))\n",
    "\n",
    "## draw a random sample with n=1000\n",
    "#e <- sample(range(1, 10), 1000, replace = T, prob = d)\n",
    "\n",
    "## calculate ml estimates\n",
    "#Res = minimize(negloglik([20,20], df['Images_Plante'][0:n_extr]), p=[20,20])\n",
    "#ml\n",
    "\n",
    "## generate pmf for sampling\n",
    "#plot(d <- sapply(1:58, function(x) exp(-negloglik(ml$estimate, x))))"
   ]
  },
  {
   "cell_type": "code",
   "execution_count": 19,
   "metadata": {},
   "outputs": [
    {
     "data": {
      "text/html": [
       "<div>\n",
       "<style scoped>\n",
       "    .dataframe tbody tr th:only-of-type {\n",
       "        vertical-align: middle;\n",
       "    }\n",
       "\n",
       "    .dataframe tbody tr th {\n",
       "        vertical-align: top;\n",
       "    }\n",
       "\n",
       "    .dataframe thead th {\n",
       "        text-align: right;\n",
       "    }\n",
       "</style>\n",
       "<table border=\"1\" class=\"dataframe\">\n",
       "  <thead>\n",
       "    <tr style=\"text-align: right;\">\n",
       "      <th></th>\n",
       "      <th>Images_Plante</th>\n",
       "    </tr>\n",
       "  </thead>\n",
       "  <tbody>\n",
       "    <tr>\n",
       "      <th>0</th>\n",
       "      <td>9012</td>\n",
       "    </tr>\n",
       "    <tr>\n",
       "      <th>1</th>\n",
       "      <td>7922</td>\n",
       "    </tr>\n",
       "    <tr>\n",
       "      <th>2</th>\n",
       "      <td>7675</td>\n",
       "    </tr>\n",
       "    <tr>\n",
       "      <th>3</th>\n",
       "      <td>6670</td>\n",
       "    </tr>\n",
       "    <tr>\n",
       "      <th>4</th>\n",
       "      <td>6474</td>\n",
       "    </tr>\n",
       "    <tr>\n",
       "      <th>...</th>\n",
       "      <td>...</td>\n",
       "    </tr>\n",
       "    <tr>\n",
       "      <th>1076</th>\n",
       "      <td>4</td>\n",
       "    </tr>\n",
       "    <tr>\n",
       "      <th>1077</th>\n",
       "      <td>4</td>\n",
       "    </tr>\n",
       "    <tr>\n",
       "      <th>1078</th>\n",
       "      <td>4</td>\n",
       "    </tr>\n",
       "    <tr>\n",
       "      <th>1079</th>\n",
       "      <td>4</td>\n",
       "    </tr>\n",
       "    <tr>\n",
       "      <th>1080</th>\n",
       "      <td>4</td>\n",
       "    </tr>\n",
       "  </tbody>\n",
       "</table>\n",
       "<p>1081 rows × 1 columns</p>\n",
       "</div>"
      ],
      "text/plain": [
       "      Images_Plante\n",
       "0              9012\n",
       "1              7922\n",
       "2              7675\n",
       "3              6670\n",
       "4              6474\n",
       "...             ...\n",
       "1076              4\n",
       "1077              4\n",
       "1078              4\n",
       "1079              4\n",
       "1080              4\n",
       "\n",
       "[1081 rows x 1 columns]"
      ]
     },
     "execution_count": 19,
     "metadata": {},
     "output_type": "execute_result"
    }
   ],
   "source": [
    "import numpy as np\n",
    "import seaborn as sns\n",
    "df"
   ]
  },
  {
   "cell_type": "code",
   "execution_count": 11,
   "metadata": {},
   "outputs": [],
   "source": [
    "#Let's try the powerlaw package with the Species\n",
    "import powerlaw"
   ]
  },
  {
   "cell_type": "code",
   "execution_count": 26,
   "metadata": {},
   "outputs": [
    {
     "data": {
      "text/plain": [
       "[9012,\n",
       " 7922,\n",
       " 7675,\n",
       " 6670,\n",
       " 6474,\n",
       " 6330,\n",
       " 6047,\n",
       " 5628,\n",
       " 5357,\n",
       " 5009,\n",
       " 4828,\n",
       " 4275,\n",
       " 4236,\n",
       " 4193,\n",
       " 3980,\n",
       " 3791,\n",
       " 3514,\n",
       " 3485,\n",
       " 3424,\n",
       " 3424,\n",
       " 3376,\n",
       " 3086,\n",
       " 3061,\n",
       " 2983,\n",
       " 2914,\n",
       " 2806,\n",
       " 2803,\n",
       " 2751,\n",
       " 2627,\n",
       " 2511,\n",
       " 2442,\n",
       " 2429,\n",
       " 2375,\n",
       " 2225,\n",
       " 2220,\n",
       " 2204,\n",
       " 2197,\n",
       " 2164,\n",
       " 2146,\n",
       " 2126,\n",
       " 2108,\n",
       " 2088,\n",
       " 1997,\n",
       " 1974,\n",
       " 1964,\n",
       " 1918,\n",
       " 1881,\n",
       " 1802,\n",
       " 1724,\n",
       " 1699,\n",
       " 1686,\n",
       " 1651,\n",
       " 1629,\n",
       " 1615,\n",
       " 1532,\n",
       " 1477,\n",
       " 1400,\n",
       " 1340,\n",
       " 1322,\n",
       " 1302,\n",
       " 1291,\n",
       " 1290,\n",
       " 1285,\n",
       " 1278,\n",
       " 1261,\n",
       " 1212,\n",
       " 1168,\n",
       " 1155,\n",
       " 1155,\n",
       " 1131,\n",
       " 1114,\n",
       " 1113,\n",
       " 1093,\n",
       " 1045,\n",
       " 1031,\n",
       " 994,\n",
       " 982,\n",
       " 936,\n",
       " 932,\n",
       " 928,\n",
       " 926,\n",
       " 916,\n",
       " 914,\n",
       " 910,\n",
       " 905,\n",
       " 889,\n",
       " 882,\n",
       " 853,\n",
       " 847,\n",
       " 831,\n",
       " 827,\n",
       " 827,\n",
       " 812,\n",
       " 808,\n",
       " 788,\n",
       " 778,\n",
       " 776,\n",
       " 760,\n",
       " 715,\n",
       " 708,\n",
       " 688,\n",
       " 679,\n",
       " 672,\n",
       " 662,\n",
       " 652,\n",
       " 641,\n",
       " 630,\n",
       " 628,\n",
       " 624,\n",
       " 616,\n",
       " 608,\n",
       " 599,\n",
       " 593,\n",
       " 591,\n",
       " 570,\n",
       " 564,\n",
       " 540,\n",
       " 536,\n",
       " 526,\n",
       " 522,\n",
       " 514,\n",
       " 514,\n",
       " 500,\n",
       " 475,\n",
       " 451,\n",
       " 447,\n",
       " 444,\n",
       " 440,\n",
       " 439,\n",
       " 435,\n",
       " 433,\n",
       " 421,\n",
       " 413,\n",
       " 413,\n",
       " 411,\n",
       " 407,\n",
       " 404,\n",
       " 397,\n",
       " 390,\n",
       " 387,\n",
       " 384,\n",
       " 380,\n",
       " 378,\n",
       " 377,\n",
       " 366,\n",
       " 366,\n",
       " 365,\n",
       " 363,\n",
       " 360,\n",
       " 350,\n",
       " 341,\n",
       " 335,\n",
       " 334,\n",
       " 331,\n",
       " 327,\n",
       " 327,\n",
       " 326,\n",
       " 325,\n",
       " 324,\n",
       " 321,\n",
       " 319,\n",
       " 319,\n",
       " 314,\n",
       " 309,\n",
       " 307,\n",
       " 306,\n",
       " 305,\n",
       " 304,\n",
       " 303,\n",
       " 302,\n",
       " 302,\n",
       " 299,\n",
       " 298,\n",
       " 295,\n",
       " 294,\n",
       " 293,\n",
       " 293,\n",
       " 292,\n",
       " 291,\n",
       " 290,\n",
       " 288,\n",
       " 287,\n",
       " 285,\n",
       " 275,\n",
       " 275,\n",
       " 274,\n",
       " 273,\n",
       " 273,\n",
       " 272,\n",
       " 267,\n",
       " 256,\n",
       " 254,\n",
       " 252,\n",
       " 251,\n",
       " 251,\n",
       " 248,\n",
       " 243,\n",
       " 235,\n",
       " 235,\n",
       " 235,\n",
       " 233,\n",
       " 233,\n",
       " 232,\n",
       " 231,\n",
       " 227,\n",
       " 226,\n",
       " 225,\n",
       " 225,\n",
       " 225,\n",
       " 221,\n",
       " 219,\n",
       " 218,\n",
       " 214,\n",
       " 213,\n",
       " 212,\n",
       " 210,\n",
       " 205,\n",
       " 205,\n",
       " 202,\n",
       " 202,\n",
       " 201,\n",
       " 201,\n",
       " 199,\n",
       " 198,\n",
       " 194,\n",
       " 191,\n",
       " 185,\n",
       " 184,\n",
       " 183,\n",
       " 182,\n",
       " 181,\n",
       " 177,\n",
       " 175,\n",
       " 175,\n",
       " 173,\n",
       " 171,\n",
       " 169,\n",
       " 169,\n",
       " 168,\n",
       " 167,\n",
       " 166,\n",
       " 165,\n",
       " 165,\n",
       " 164,\n",
       " 163,\n",
       " 161,\n",
       " 161,\n",
       " 160,\n",
       " 160,\n",
       " 159,\n",
       " 158,\n",
       " 157,\n",
       " 156,\n",
       " 156,\n",
       " 155,\n",
       " 152,\n",
       " 151,\n",
       " 150,\n",
       " 150,\n",
       " 148,\n",
       " 147,\n",
       " 147,\n",
       " 146,\n",
       " 145,\n",
       " 144,\n",
       " 144,\n",
       " 143,\n",
       " 143,\n",
       " 143,\n",
       " 142,\n",
       " 142,\n",
       " 141,\n",
       " 139,\n",
       " 137,\n",
       " 136,\n",
       " 135,\n",
       " 135,\n",
       " 135,\n",
       " 134,\n",
       " 132,\n",
       " 132,\n",
       " 132,\n",
       " 131,\n",
       " 131,\n",
       " 131,\n",
       " 130,\n",
       " 130,\n",
       " 129,\n",
       " 129,\n",
       " 129,\n",
       " 128,\n",
       " 127,\n",
       " 126,\n",
       " 124,\n",
       " 124,\n",
       " 123,\n",
       " 123,\n",
       " 121,\n",
       " 121,\n",
       " 121,\n",
       " 120,\n",
       " 120,\n",
       " 120,\n",
       " 120,\n",
       " 118,\n",
       " 118,\n",
       " 116,\n",
       " 115,\n",
       " 114,\n",
       " 114,\n",
       " 114,\n",
       " 112,\n",
       " 112,\n",
       " 112,\n",
       " 108,\n",
       " 108,\n",
       " 107,\n",
       " 107,\n",
       " 107,\n",
       " 106,\n",
       " 106,\n",
       " 106,\n",
       " 105,\n",
       " 104,\n",
       " 104,\n",
       " 103,\n",
       " 102,\n",
       " 101,\n",
       " 101,\n",
       " 101,\n",
       " 99,\n",
       " 99,\n",
       " 99,\n",
       " 99,\n",
       " 99,\n",
       " 98,\n",
       " 96,\n",
       " 95,\n",
       " 95,\n",
       " 94,\n",
       " 94,\n",
       " 94,\n",
       " 93,\n",
       " 92,\n",
       " 92,\n",
       " 91,\n",
       " 90,\n",
       " 90,\n",
       " 88,\n",
       " 86,\n",
       " 86,\n",
       " 85,\n",
       " 84,\n",
       " 83,\n",
       " 83,\n",
       " 83,\n",
       " 83,\n",
       " 83,\n",
       " 82,\n",
       " 82,\n",
       " 82,\n",
       " 81,\n",
       " 81,\n",
       " 81,\n",
       " 81,\n",
       " 81,\n",
       " 80,\n",
       " 80,\n",
       " 79,\n",
       " 79,\n",
       " 79,\n",
       " 79,\n",
       " 79,\n",
       " 79,\n",
       " 78,\n",
       " 77,\n",
       " 76,\n",
       " 76,\n",
       " 76,\n",
       " 75,\n",
       " 73,\n",
       " 72,\n",
       " 72,\n",
       " 71,\n",
       " 71,\n",
       " 71,\n",
       " 71,\n",
       " 71,\n",
       " 71,\n",
       " 70,\n",
       " 70,\n",
       " 69,\n",
       " 67,\n",
       " 67,\n",
       " 66,\n",
       " 64,\n",
       " 64,\n",
       " 63,\n",
       " 62,\n",
       " 62,\n",
       " 62,\n",
       " 62,\n",
       " 61,\n",
       " 61,\n",
       " 61,\n",
       " 61,\n",
       " 61,\n",
       " 60,\n",
       " 60,\n",
       " 60,\n",
       " 60,\n",
       " 59,\n",
       " 59,\n",
       " 59,\n",
       " 59,\n",
       " 59,\n",
       " 59,\n",
       " 58,\n",
       " 58,\n",
       " 57,\n",
       " 57,\n",
       " 56,\n",
       " 55,\n",
       " 54,\n",
       " 54,\n",
       " 53,\n",
       " 52,\n",
       " 52,\n",
       " 52,\n",
       " 52,\n",
       " 51,\n",
       " 51,\n",
       " 51,\n",
       " 50,\n",
       " 50,\n",
       " 50,\n",
       " 50,\n",
       " 49,\n",
       " 48,\n",
       " 48,\n",
       " 48,\n",
       " 47,\n",
       " 47,\n",
       " 47,\n",
       " 46,\n",
       " 46,\n",
       " 46,\n",
       " 45,\n",
       " 45,\n",
       " 45,\n",
       " 45,\n",
       " 45,\n",
       " 44,\n",
       " 44,\n",
       " 44,\n",
       " 44,\n",
       " 44,\n",
       " 43,\n",
       " 43,\n",
       " 43,\n",
       " 43,\n",
       " 42,\n",
       " 42,\n",
       " 42,\n",
       " 42,\n",
       " 41,\n",
       " 41,\n",
       " 41,\n",
       " 40,\n",
       " 40,\n",
       " 39,\n",
       " 39,\n",
       " 39,\n",
       " 39,\n",
       " 39,\n",
       " 39,\n",
       " 39,\n",
       " 38,\n",
       " 38,\n",
       " 38,\n",
       " 37,\n",
       " 36,\n",
       " 36,\n",
       " 36,\n",
       " 36,\n",
       " 36,\n",
       " 36,\n",
       " 35,\n",
       " 35,\n",
       " 35,\n",
       " 35,\n",
       " 35,\n",
       " 35,\n",
       " 35,\n",
       " 34,\n",
       " 34,\n",
       " 34,\n",
       " 34,\n",
       " 34,\n",
       " 34,\n",
       " 34,\n",
       " 34,\n",
       " 33,\n",
       " 33,\n",
       " 33,\n",
       " 33,\n",
       " 33,\n",
       " 33,\n",
       " 32,\n",
       " 32,\n",
       " 32,\n",
       " 32,\n",
       " 31,\n",
       " 31,\n",
       " 31,\n",
       " 30,\n",
       " 30,\n",
       " 30,\n",
       " 30,\n",
       " 30,\n",
       " 30,\n",
       " 30,\n",
       " 30,\n",
       " 30,\n",
       " 29,\n",
       " 29,\n",
       " 29,\n",
       " 29,\n",
       " 29,\n",
       " 29,\n",
       " 29,\n",
       " 28,\n",
       " 28,\n",
       " 28,\n",
       " 28,\n",
       " 27,\n",
       " 27,\n",
       " 27,\n",
       " 27,\n",
       " 27,\n",
       " 27,\n",
       " 27,\n",
       " 27,\n",
       " 27,\n",
       " 27,\n",
       " 27,\n",
       " 27,\n",
       " 27,\n",
       " 27,\n",
       " 27,\n",
       " 27,\n",
       " 27,\n",
       " 26,\n",
       " 26,\n",
       " 26,\n",
       " 26,\n",
       " 26,\n",
       " 26,\n",
       " 25,\n",
       " 25,\n",
       " 25,\n",
       " 25,\n",
       " 25,\n",
       " 25,\n",
       " 25,\n",
       " 25,\n",
       " 25,\n",
       " 24,\n",
       " 24,\n",
       " 24,\n",
       " 24,\n",
       " 24,\n",
       " 24,\n",
       " 24,\n",
       " 24,\n",
       " 24,\n",
       " 24,\n",
       " 23,\n",
       " 23,\n",
       " 23,\n",
       " 23,\n",
       " 22,\n",
       " 22,\n",
       " 22,\n",
       " 22,\n",
       " 22,\n",
       " 22,\n",
       " 21,\n",
       " 21,\n",
       " 21,\n",
       " 21,\n",
       " 21,\n",
       " 21,\n",
       " 21,\n",
       " 21,\n",
       " 21,\n",
       " 21,\n",
       " 21,\n",
       " 21,\n",
       " 21,\n",
       " 20,\n",
       " 20,\n",
       " 20,\n",
       " 20,\n",
       " 20,\n",
       " 20,\n",
       " 20,\n",
       " 19,\n",
       " 19,\n",
       " 19,\n",
       " 19,\n",
       " 19,\n",
       " 19,\n",
       " 19,\n",
       " 19,\n",
       " 19,\n",
       " 19,\n",
       " 19,\n",
       " 19,\n",
       " 19,\n",
       " 19,\n",
       " 19,\n",
       " 18,\n",
       " 18,\n",
       " 18,\n",
       " 18,\n",
       " 18,\n",
       " 18,\n",
       " 18,\n",
       " 18,\n",
       " 18,\n",
       " 18,\n",
       " 18,\n",
       " 18,\n",
       " 18,\n",
       " 18,\n",
       " 18,\n",
       " 18,\n",
       " 17,\n",
       " 17,\n",
       " 17,\n",
       " 17,\n",
       " 17,\n",
       " 17,\n",
       " 17,\n",
       " 17,\n",
       " 16,\n",
       " 16,\n",
       " 16,\n",
       " 16,\n",
       " 16,\n",
       " 16,\n",
       " 16,\n",
       " 16,\n",
       " 16,\n",
       " 16,\n",
       " 16,\n",
       " 16,\n",
       " 16,\n",
       " 15,\n",
       " 15,\n",
       " 15,\n",
       " 15,\n",
       " 15,\n",
       " 15,\n",
       " 15,\n",
       " 15,\n",
       " 15,\n",
       " 15,\n",
       " 15,\n",
       " 14,\n",
       " 14,\n",
       " 14,\n",
       " 14,\n",
       " 14,\n",
       " 14,\n",
       " 14,\n",
       " 14,\n",
       " 14,\n",
       " 14,\n",
       " 14,\n",
       " 14,\n",
       " 14,\n",
       " 14,\n",
       " 14,\n",
       " 14,\n",
       " 14,\n",
       " 14,\n",
       " 14,\n",
       " 13,\n",
       " 13,\n",
       " 13,\n",
       " 13,\n",
       " 13,\n",
       " 13,\n",
       " 13,\n",
       " 13,\n",
       " 13,\n",
       " 13,\n",
       " 13,\n",
       " 13,\n",
       " 13,\n",
       " 13,\n",
       " 13,\n",
       " 13,\n",
       " 13,\n",
       " 13,\n",
       " 13,\n",
       " 13,\n",
       " 12,\n",
       " 12,\n",
       " 12,\n",
       " 12,\n",
       " 12,\n",
       " 12,\n",
       " 12,\n",
       " 12,\n",
       " 12,\n",
       " 12,\n",
       " 12,\n",
       " 12,\n",
       " 12,\n",
       " 12,\n",
       " 12,\n",
       " 12,\n",
       " 12,\n",
       " 12,\n",
       " 12,\n",
       " 12,\n",
       " 12,\n",
       " 12,\n",
       " 12,\n",
       " 12,\n",
       " 12,\n",
       " 12,\n",
       " 12,\n",
       " 12,\n",
       " 11,\n",
       " 11,\n",
       " 11,\n",
       " 11,\n",
       " 11,\n",
       " 11,\n",
       " 11,\n",
       " 11,\n",
       " 11,\n",
       " 11,\n",
       " 11,\n",
       " 11,\n",
       " 11,\n",
       " 11,\n",
       " 11,\n",
       " 11,\n",
       " 11,\n",
       " 11,\n",
       " 11,\n",
       " 11,\n",
       " 11,\n",
       " 11,\n",
       " 11,\n",
       " 10,\n",
       " 10,\n",
       " 10,\n",
       " 10,\n",
       " 10,\n",
       " 10,\n",
       " 10,\n",
       " 10,\n",
       " 10,\n",
       " 10,\n",
       " 10,\n",
       " 10,\n",
       " 10,\n",
       " 10,\n",
       " 10,\n",
       " 10,\n",
       " 10,\n",
       " 10,\n",
       " 10,\n",
       " 10,\n",
       " 10,\n",
       " 10,\n",
       " 10,\n",
       " 10,\n",
       " 10,\n",
       " 10,\n",
       " 10,\n",
       " 10,\n",
       " 10,\n",
       " 10,\n",
       " 9,\n",
       " 9,\n",
       " 9,\n",
       " 9,\n",
       " 9,\n",
       " 9,\n",
       " 9,\n",
       " 9,\n",
       " 9,\n",
       " 9,\n",
       " 9,\n",
       " 9,\n",
       " 9,\n",
       " 9,\n",
       " 9,\n",
       " 9,\n",
       " 9,\n",
       " 9,\n",
       " 9,\n",
       " 9,\n",
       " 9,\n",
       " 9,\n",
       " 9,\n",
       " 9,\n",
       " 9,\n",
       " 9,\n",
       " 9,\n",
       " 9,\n",
       " 9,\n",
       " 9,\n",
       " 9,\n",
       " 8,\n",
       " 8,\n",
       " 8,\n",
       " 8,\n",
       " 8,\n",
       " 8,\n",
       " 8,\n",
       " 8,\n",
       " 8,\n",
       " 8,\n",
       " 8,\n",
       " 8,\n",
       " 8,\n",
       " 8,\n",
       " 8,\n",
       " 8,\n",
       " 8,\n",
       " 8,\n",
       " 8,\n",
       " 8,\n",
       " 8,\n",
       " 8,\n",
       " 8,\n",
       " 8,\n",
       " 8,\n",
       " 8,\n",
       " 8,\n",
       " 8,\n",
       " 8,\n",
       " 8,\n",
       " 7,\n",
       " 7,\n",
       " 7,\n",
       " 7,\n",
       " 7,\n",
       " 7,\n",
       " 7,\n",
       " 7,\n",
       " 7,\n",
       " 7,\n",
       " 7,\n",
       " 7,\n",
       " 7,\n",
       " 7,\n",
       " 7,\n",
       " 7,\n",
       " 7,\n",
       " 7,\n",
       " 7,\n",
       " 7,\n",
       " 7,\n",
       " 7,\n",
       " 7,\n",
       " 7,\n",
       " 7,\n",
       " 7,\n",
       " 7,\n",
       " 7,\n",
       " 7,\n",
       " 7,\n",
       " 7,\n",
       " 7,\n",
       " 7,\n",
       " 7,\n",
       " 7,\n",
       " 7,\n",
       " 7,\n",
       " 7,\n",
       " 6,\n",
       " 6,\n",
       " 6,\n",
       " 6,\n",
       " 6,\n",
       " 6,\n",
       " 6,\n",
       " 6,\n",
       " 6,\n",
       " 6,\n",
       " 6,\n",
       " 6,\n",
       " 6,\n",
       " 6,\n",
       " 6,\n",
       " 6,\n",
       " 6,\n",
       " 6,\n",
       " 6,\n",
       " 6,\n",
       " 6,\n",
       " 6,\n",
       " 6,\n",
       " 6,\n",
       " 6,\n",
       " 6,\n",
       " 6,\n",
       " 6,\n",
       " 6,\n",
       " 6,\n",
       " 6,\n",
       " 6,\n",
       " 6,\n",
       " 6,\n",
       " 6,\n",
       " 6,\n",
       " 6,\n",
       " 6,\n",
       " 6,\n",
       " 6,\n",
       " 6,\n",
       " 6,\n",
       " 6,\n",
       " 6,\n",
       " 6,\n",
       " 6,\n",
       " 6,\n",
       " 6,\n",
       " 6,\n",
       " 6,\n",
       " 6,\n",
       " 6,\n",
       " 6,\n",
       " 6,\n",
       " 5,\n",
       " 5,\n",
       " 5,\n",
       " 5,\n",
       " 5,\n",
       " 5,\n",
       " 5,\n",
       " 5,\n",
       " 5,\n",
       " 5,\n",
       " 5,\n",
       " 5,\n",
       " 5,\n",
       " 5,\n",
       " 5,\n",
       " 5,\n",
       " 5,\n",
       " 5,\n",
       " 5,\n",
       " 5,\n",
       " 5,\n",
       " 5,\n",
       " 5,\n",
       " 5,\n",
       " 5,\n",
       " 5,\n",
       " 5,\n",
       " 5,\n",
       " 5,\n",
       " 5,\n",
       " 5,\n",
       " 5,\n",
       " 5,\n",
       " 5,\n",
       " 5,\n",
       " 5,\n",
       " 5,\n",
       " 5,\n",
       " 5,\n",
       " 5,\n",
       " 5,\n",
       " 5,\n",
       " 5,\n",
       " 5,\n",
       " 5,\n",
       " 5,\n",
       " 5,\n",
       " 5,\n",
       " 5,\n",
       " 5,\n",
       " 5,\n",
       " 5,\n",
       " 5,\n",
       " 5,\n",
       " 5,\n",
       " 4,\n",
       " 4,\n",
       " ...]"
      ]
     },
     "execution_count": 26,
     "metadata": {},
     "output_type": "execute_result"
    }
   ],
   "source": [
    "Images_Plante = df['Images_Plante'].values.tolist()\n",
    "Images_Plante"
   ]
  },
  {
   "cell_type": "code",
   "execution_count": 27,
   "metadata": {},
   "outputs": [
    {
     "name": "stdout",
     "output_type": "stream",
     "text": [
      "Calculating best minimal value for power law fit\n",
      "xmin progress: 99%\r"
     ]
    }
   ],
   "source": [
    "fit = powerlaw.Fit(Images_Plante)"
   ]
  },
  {
   "cell_type": "code",
   "execution_count": 30,
   "metadata": {},
   "outputs": [
    {
     "name": "stdout",
     "output_type": "stream",
     "text": [
      "1.6655656751820782 0.03418781232869543\n"
     ]
    }
   ],
   "source": [
    "alpha_Species = fit.power_law.alpha\n",
    "sigma_Species = fit.power_law.sigma\n",
    "print(alpha_Species, sigma_Species)"
   ]
  },
  {
   "cell_type": "code",
   "execution_count": 32,
   "metadata": {},
   "outputs": [
    {
     "data": {
      "text/plain": [
       "(116.28907090686701, 7.556124443251332e-08)"
      ]
     },
     "execution_count": 32,
     "metadata": {},
     "output_type": "execute_result"
    }
   ],
   "source": [
    "fit.distribution_compare('power_law', 'exponential')"
   ]
  },
  {
   "cell_type": "code",
   "execution_count": 36,
   "metadata": {},
   "outputs": [
    {
     "data": {
      "text/plain": [
       "<AxesSubplot:>"
      ]
     },
     "execution_count": 36,
     "metadata": {},
     "output_type": "execute_result"
    },
    {
     "data": {
      "image/png": "[encoded data removed]",
      "text/plain": [
       "<Figure size 432x288 with 1 Axes>"
      ]
     },
     "metadata": {
      "needs_background": "light"
     },
     "output_type": "display_data"
    }
   ],
   "source": [
    "#Basic Methods\n",
    "#Visualization\n",
    "#PDF of our data with logarithmic and linear binning\n",
    "powerlaw.plot_pdf(Images_Plante, color='b')\n",
    "powerlaw.plot_pdf(Images_Plante, linear_bins=True, color='r')"
   ]
  },
  {
   "cell_type": "code",
   "execution_count": 39,
   "metadata": {},
   "outputs": [
    {
     "data": {
      "text/plain": [
       "<AxesSubplot:>"
      ]
     },
     "execution_count": 39,
     "metadata": {},
     "output_type": "execute_result"
    },
    {
     "data": {
      "image/png": "[encoded data removed]",
      "text/plain": [
       "<Figure size 432x288 with 1 Axes>"
      ]
     },
     "metadata": {
      "needs_background": "light"
     },
     "output_type": "display_data"
    }
   ],
   "source": [
    "#PDF and CCDF of our data with powerlaw fit\n",
    "fig2 = fit.plot_pdf(color='b', linewidth=2)\n",
    "fit.power_law.plot_pdf(color='b', linestyle='--', ax=fig2)\n",
    "fit.plot_ccdf(color='r', linewidth=2, ax=fig2)\n",
    "fit.power_law.plot_ccdf(color='r', linestyle='--', ax=fig2)\n"
   ]
  },
  {
   "cell_type": "code",
   "execution_count": 41,
   "metadata": {},
   "outputs": [
    {
     "name": "stdout",
     "output_type": "stream",
     "text": [
      "[  76.   77.   78.   79.   80.   81.   82.   83.   84.   85.   86.   88.\n",
      "   90.   91.   92.   93.   94.   95.   96.   98.   99.  101.  102.  103.\n",
      "  104.  105.  106.  107.  108.  112.  114.  115.  116.  118.  120.  121.\n",
      "  123.  124.  126.  127.  128.  129.  130.  131.  132.  134.  135.  136.\n",
      "  137.  139.  141.  142.  143.  144.  145.  146.  147.  148.  150.  151.\n",
      "  152.  155.  156.  157.  158.  159.  160.  161.  163.  164.  165.  166.\n",
      "  167.  168.  169.  171.  173.  175.  177.  181.  182.  183.  184.  185.\n",
      "  191.  194.  198.  199.  201.  202.  205.  210.  212.  213.  214.  218.\n",
      "  219.  221.  225.  226.  227.  231.  232.  233.  235.  243.  248.  251.\n",
      "  252.  254.  256.  267.  272.  273.  274.  275.  285.  287.  288.  290.\n",
      "  291.  292.  293.  294.  295.  298.  299.  302.  303.  304.  305.  306.\n",
      "  307.  309.  314.  319.  321.  324.  325.  326.  327.  331.  334.  335.\n",
      "  341.  350.  360.  363.  365.  366.  377.  378.  380.  384.  387.  390.\n",
      "  397.  404.  407.  411.  413.  421.  433.  435.  439.  440.  444.  447.\n",
      "  451.  475.  500.  514.  522.  526.  536.  540.  564.  570.  591.  593.\n",
      "  599.  608.  616.  624.  628.  630.  641.  652.  662.  672.  679.  688.\n",
      "  708.  715.  760.  776.  778.  788.  808.  812.  827.  831.  847.  853.\n",
      "  882.  889.  905.  910.  914.  916.  926.  928.  932.  936.  982.  994.\n",
      " 1031. 1045. 1093. 1113. 1114. 1131. 1155. 1168. 1212. 1261. 1278. 1285.\n",
      " 1290. 1291. 1302. 1322. 1340. 1400. 1477. 1532. 1615. 1629. 1651. 1686.\n",
      " 1699. 1724. 1802. 1881. 1918. 1964. 1974. 1997. 2088. 2108. 2126. 2146.\n",
      " 2164. 2197. 2204. 2220. 2225. 2375. 2429. 2442. 2511. 2627. 2751. 2803.\n",
      " 2806. 2914. 2983. 3061. 3086. 3376. 3424. 3485. 3514. 3791. 3980. 4193.\n",
      " 4236. 4275. 4828. 5009. 5357. 5628. 6047. 6330. 6474. 6670. 7675. 7922.\n",
      " 9012.] [0.         0.00791557 0.01055409 0.01319261 0.02902375 0.03430079\n",
      " 0.0474934  0.05540897 0.06860158 0.07124011 0.07387863 0.07915567\n",
      " 0.0817942  0.08707124 0.08970976 0.09498681 0.09762533 0.1055409\n",
      " 0.11081794 0.11345646 0.11609499 0.1292876  0.13720317 0.13984169\n",
      " 0.14248021 0.14775726 0.15039578 0.15831135 0.16622691 0.17150396\n",
      " 0.17941953 0.18733509 0.18997361 0.19261214 0.19788918 0.20844327\n",
      " 0.21635884 0.22163588 0.22691293 0.22955145 0.23218997 0.2348285\n",
      " 0.24274406 0.24802111 0.25593668 0.26385224 0.26649077 0.27440633\n",
      " 0.27704485 0.27968338 0.2823219  0.28496042 0.29023747 0.29815303\n",
      " 0.30343008 0.3060686  0.30870712 0.31398417 0.31662269 0.32189974\n",
      " 0.32453826 0.32717678 0.3298153  0.33509235 0.33773087 0.34036939\n",
      " 0.34300792 0.34828496 0.35356201 0.35620053 0.35883905 0.36411609\n",
      " 0.36675462 0.36939314 0.37203166 0.37730871 0.37994723 0.38258575\n",
      " 0.3878628  0.39050132 0.39313984 0.39577836 0.39841689 0.40105541\n",
      " 0.40369393 0.40633245 0.40897098 0.4116095  0.41424802 0.41952507\n",
      " 0.42480211 0.43007916 0.43271768 0.4353562  0.43799472 0.44063325\n",
      " 0.44327177 0.44591029 0.44854881 0.45646438 0.4591029  0.46174142\n",
      " 0.46437995 0.46701847 0.47229551 0.48021108 0.4828496  0.48548813\n",
      " 0.49076517 0.49340369 0.49604222 0.49868074 0.50131926 0.50395778\n",
      " 0.50923483 0.51187335 0.5171504  0.51978892 0.52242744 0.52506596\n",
      " 0.52770449 0.53034301 0.53298153 0.53825858 0.5408971  0.54353562\n",
      " 0.54617414 0.54881266 0.55408971 0.55672823 0.55936675 0.56200528\n",
      " 0.5646438  0.56728232 0.56992084 0.57255937 0.57783641 0.58047493\n",
      " 0.58311346 0.58575198 0.5883905  0.59366755 0.59630607 0.59894459\n",
      " 0.60158311 0.60422164 0.60686016 0.60949868 0.6121372  0.61477573\n",
      " 0.62005277 0.62269129 0.62532982 0.62796834 0.63060686 0.63324538\n",
      " 0.63588391 0.63852243 0.64116095 0.64379947 0.64643799 0.65171504\n",
      " 0.65435356 0.65699208 0.65963061 0.66226913 0.66490765 0.66754617\n",
      " 0.6701847  0.67282322 0.67546174 0.67810026 0.68337731 0.68601583\n",
      " 0.68865435 0.69129288 0.6939314  0.69656992 0.69920844 0.70184697\n",
      " 0.70448549 0.70712401 0.70976253 0.71240106 0.71503958 0.7176781\n",
      " 0.72031662 0.72295515 0.72559367 0.72823219 0.73087071 0.73350923\n",
      " 0.73614776 0.73878628 0.7414248  0.74406332 0.74670185 0.74934037\n",
      " 0.75197889 0.75461741 0.75725594 0.76253298 0.7651715  0.76781003\n",
      " 0.77044855 0.77308707 0.77572559 0.77836412 0.78100264 0.78364116\n",
      " 0.78627968 0.78891821 0.79155673 0.79419525 0.79683377 0.7994723\n",
      " 0.80211082 0.80474934 0.80738786 0.81002639 0.81266491 0.81530343\n",
      " 0.81794195 0.823219   0.82585752 0.82849604 0.83113456 0.83377309\n",
      " 0.83641161 0.83905013 0.84168865 0.84432718 0.8469657  0.84960422\n",
      " 0.85224274 0.85488127 0.85751979 0.86015831 0.86279683 0.86543536\n",
      " 0.86807388 0.8707124  0.87335092 0.87598945 0.87862797 0.88126649\n",
      " 0.88390501 0.88654354 0.88918206 0.89182058 0.8944591  0.89709763\n",
      " 0.89973615 0.90237467 0.90501319 0.90765172 0.91029024 0.91292876\n",
      " 0.91556728 0.9182058  0.92084433 0.92348285 0.92612137 0.92875989\n",
      " 0.93139842 0.93403694 0.93667546 0.93931398 0.94195251 0.94459103\n",
      " 0.94722955 0.9525066  0.95514512 0.95778364 0.96042216 0.96306069\n",
      " 0.96569921 0.96833773 0.97097625 0.97361478 0.9762533  0.97889182\n",
      " 0.98153034 0.98416887 0.98680739 0.98944591 0.99208443 0.99472296\n",
      " 0.99736148]\n",
      "[  76.   96.  122.  155.  197.  250.  318.  404.  513.  651.  827. 1050.\n",
      " 1334. 1694. 2150. 2730. 3467. 4402. 5590. 7097. 9012.] [5.54089710e-03 4.05926527e-03 3.35811945e-03 1.94748084e-03\n",
      " 1.44371982e-03 1.28045941e-03 7.67012334e-04 3.63099417e-04\n",
      " 3.25035371e-04 1.94890861e-04 2.24806844e-04 1.39358579e-04\n",
      " 5.86338317e-05 6.94348007e-05 4.54917660e-05 3.58008470e-05\n",
      " 1.97536438e-05 6.66293542e-06 8.75422172e-06 4.13345550e-06]\n",
      "[6.02102560e-03 6.02102560e-03 6.02102560e-03 5.93350234e-03\n",
      " 5.84813520e-03 5.76484809e-03 5.76484809e-03 5.76484809e-03\n",
      " 5.76484809e-03 5.76484809e-03 5.76484809e-03 5.68356844e-03\n",
      " 5.68356844e-03 5.60422696e-03 5.60422696e-03 5.60422696e-03\n",
      " 5.60422696e-03 5.60422696e-03 5.52675753e-03 5.52675753e-03\n",
      " 5.52675753e-03 5.45109693e-03 5.45109693e-03 5.45109693e-03\n",
      " 5.45109693e-03 5.45109693e-03 5.37718475e-03 5.30496322e-03\n",
      " 5.23437704e-03 5.23437704e-03 5.09790129e-03 4.96736023e-03\n",
      " 4.96736023e-03 4.90419996e-03 4.84238879e-03 4.84238879e-03\n",
      " 4.78188561e-03 4.72265093e-03 4.72265093e-03 4.72265093e-03\n",
      " 4.66464681e-03 4.66464681e-03 4.60783680e-03 4.49766027e-03\n",
      " 4.44422761e-03 4.44422761e-03 4.44422761e-03 4.44422761e-03\n",
      " 4.44422761e-03 4.34051741e-03 4.34051741e-03 4.34051741e-03\n",
      " 4.29018088e-03 4.24081920e-03 4.19240550e-03 4.19240550e-03\n",
      " 4.14491388e-03 4.09831934e-03 4.09831934e-03 4.09831934e-03\n",
      " 4.05259780e-03 4.05259780e-03 4.05259780e-03 4.00772598e-03\n",
      " 4.00772598e-03 3.83629833e-03 3.83629833e-03 3.83629833e-03\n",
      " 3.75513433e-03 3.75513433e-03 3.75513433e-03 3.71562300e-03\n",
      " 3.67680170e-03 3.60116127e-03 3.60116127e-03 3.52808272e-03\n",
      " 3.52808272e-03 3.52808272e-03 3.52808272e-03 3.49246566e-03\n",
      " 3.49246566e-03 3.49246566e-03 3.42300317e-03 3.42300317e-03\n",
      " 3.38912998e-03 3.38912998e-03 3.32303342e-03 3.29078474e-03\n",
      " 3.25905290e-03 3.22782615e-03 3.22782615e-03 3.22782615e-03\n",
      " 3.19709312e-03 3.19709312e-03 3.16684276e-03 3.16684276e-03\n",
      " 3.16684276e-03 3.13706434e-03 3.13706434e-03 3.13706434e-03\n",
      " 3.07888195e-03 3.05045802e-03 3.05045802e-03 3.05045802e-03\n",
      " 3.02246611e-03 2.99489693e-03 2.94099092e-03 2.88867073e-03\n",
      " 2.86308471e-03 2.86308471e-03 2.83787086e-03 2.83787086e-03\n",
      " 2.83787086e-03 2.81302152e-03 2.81302152e-03 2.78852927e-03\n",
      " 2.76438686e-03 2.74058722e-03 2.74058722e-03 2.71712350e-03\n",
      " 2.67117721e-03 2.67117721e-03 2.64868177e-03 2.62649649e-03\n",
      " 2.56174212e-03 2.54073869e-03 2.54073869e-03 2.52001676e-03\n",
      " 2.49957099e-03 2.47939621e-03 2.45948735e-03 2.45948735e-03\n",
      " 2.43983948e-03 2.43983948e-03 2.40130754e-03 2.38241418e-03\n",
      " 2.36376321e-03 2.36376321e-03 2.34535025e-03 2.32717103e-03\n",
      " 2.30922138e-03 2.29149722e-03 2.29149722e-03 2.25670950e-03\n",
      " 2.22277709e-03 2.18967056e-03 2.18967056e-03 2.15736179e-03\n",
      " 2.09503120e-03 2.07990655e-03 2.06495905e-03 2.05018579e-03\n",
      " 2.03558390e-03 1.95141937e-03 1.91143739e-03 1.86016132e-03\n",
      " 1.84769056e-03 1.82315219e-03 1.82315219e-03 1.81108051e-03\n",
      " 1.81108051e-03 1.77563199e-03 1.77563199e-03 1.71899461e-03\n",
      " 1.69715374e-03 1.68640106e-03 1.67575808e-03 1.63425230e-03\n",
      " 1.62413491e-03 1.60420091e-03 1.56549765e-03 1.56549765e-03\n",
      " 1.56549765e-03 1.55605678e-03 1.54670733e-03 1.51019935e-03\n",
      " 1.50128889e-03 1.49246276e-03 1.49246276e-03 1.47505900e-03\n",
      " 1.47505900e-03 1.47505900e-03 1.40860295e-03 1.36947433e-03\n",
      " 1.34682712e-03 1.34682712e-03 1.33941126e-03 1.32477445e-03\n",
      " 1.31039227e-03 1.23557615e-03 1.20380154e-03 1.19760321e-03\n",
      " 1.19760321e-03 1.19145568e-03 1.18535838e-03 1.18535838e-03\n",
      " 1.12702620e-03 1.11590865e-03 1.11041524e-03 1.09955679e-03\n",
      " 1.09419082e-03 1.08886641e-03 1.08358312e-03 1.08358312e-03\n",
      " 1.07834051e-03 1.07313815e-03 1.05776824e-03 1.05272260e-03\n",
      " 1.03781305e-03 1.03781305e-03 1.03291766e-03 1.02805886e-03\n",
      " 1.02323626e-03 1.01844950e-03 1.01369820e-03 1.00430053e-03\n",
      " 9.81402043e-04 9.59320722e-04 9.59320722e-04 9.50707961e-04\n",
      " 9.38016595e-04 9.33845692e-04 9.29704081e-04 9.25591478e-04\n",
      " 9.25591478e-04 9.09425561e-04 8.97592255e-04 8.93701868e-04\n",
      " 8.70909370e-04 8.38402087e-04 8.04474628e-04 7.94717211e-04\n",
      " 7.88315433e-04 7.85144950e-04 7.85144950e-04 7.51554419e-04\n",
      " 7.48613231e-04 7.42784879e-04 7.31340054e-04 7.22937197e-04\n",
      " 7.14685012e-04 6.95995232e-04 6.78061080e-04 6.70595924e-04\n",
      " 6.60840990e-04 6.56046638e-04 6.56046638e-04 6.37403430e-04\n",
      " 6.10953279e-04 6.06711960e-04 5.98366136e-04 5.96307691e-04\n",
      " 5.88183484e-04 5.82203146e-04 5.74375797e-04 5.30677164e-04\n",
      " 4.90425293e-04 4.69918598e-04 4.69918598e-04 4.58791626e-04\n",
      " 4.53380606e-04 4.40277673e-04 4.35200111e-04 4.06552508e-04\n",
      " 3.99845473e-04 3.77667210e-04 3.75654467e-04 3.69714459e-04\n",
      " 3.61072105e-04 3.53648460e-04 3.46457212e-04 3.42945643e-04\n",
      " 3.41210351e-04 3.31903219e-04 3.22980642e-04 3.15184895e-04\n",
      " 3.07674288e-04 3.02578963e-04 2.96215674e-04 2.82788481e-04\n",
      " 2.78308302e-04 2.51934360e-04 2.43469561e-04 2.42442044e-04\n",
      " 2.37402292e-04 2.27790013e-04 2.25938760e-04 2.19196620e-04\n",
      " 2.19196620e-04 2.17450384e-04 2.10672760e-04 2.08213698e-04\n",
      " 1.96921179e-04 1.94334675e-04 1.88612699e-04 1.86876891e-04\n",
      " 1.85505618e-04 1.84825692e-04 1.81482037e-04 1.80824307e-04\n",
      " 1.79519631e-04 1.78229157e-04 1.64345131e-04 1.60991908e-04\n",
      " 1.51278682e-04 1.47832759e-04 1.36874393e-04 1.32666373e-04\n",
      " 1.32461102e-04 1.29043324e-04 1.24439435e-04 1.24439435e-04\n",
      " 1.22047974e-04 1.14445804e-04 1.06786347e-04 1.04307632e-04\n",
      " 1.03311952e-04 1.02609433e-04 1.02469787e-04 1.00952264e-04\n",
      " 9.82779234e-05 9.59605391e-05 8.87981473e-05 8.07179657e-05\n",
      " 7.55988646e-05 6.87418843e-05 6.76768360e-05 6.60519991e-05\n",
      " 6.35838017e-05 6.27017671e-05 6.10557332e-05 5.63119261e-05\n",
      " 5.20424471e-05 5.02055898e-05 4.80523774e-05 4.76023325e-05\n",
      " 4.65905160e-05 4.28827393e-05 4.21262195e-05 4.14620140e-05\n",
      " 4.07419129e-05 4.01094287e-05 3.89867645e-05 3.87545641e-05\n",
      " 3.82313874e-05 3.80700206e-05 3.36586801e-05 3.22529116e-05\n",
      " 3.19273373e-05 3.02772372e-05 2.77716106e-05 2.54145113e-05\n",
      " 2.45122525e-05 2.44616308e-05 2.27360842e-05 2.17249553e-05\n",
      " 2.06588384e-05 2.03332086e-05 1.70445734e-05 1.65756524e-05\n",
      " 1.65756524e-05 1.60062327e-05 1.57454150e-05 1.35367219e-05\n",
      " 1.22779855e-05 1.10522119e-05 1.08262662e-05 1.06270414e-05\n",
      " 8.29017550e-06 7.68509211e-06 6.68709215e-06 6.03350252e-06\n",
      " 5.18977118e-06 4.71210552e-06 4.49280004e-06 4.21692963e-06\n",
      " 3.12122016e-06 2.91451306e-06 2.20009069e-06]\n"
     ]
    }
   ],
   "source": [
    "x, y = fit.cdf()\n",
    "print(x, y)\n",
    "bin_edges, probability = fit.pdf()\n",
    "print(bin_edges, probability)\n",
    "y = fit.lognormal.cdf()\n",
    "y = fit.lognormal.pdf()\n",
    "print(y)"
   ]
  },
  {
   "cell_type": "code",
   "execution_count": 42,
   "metadata": {},
   "outputs": [
    {
     "name": "stdout",
     "output_type": "stream",
     "text": [
      "Calculating best minimal value for power law fit\n",
      "xmin progress: 99%\r"
     ]
    },
    {
     "data": {
      "text/plain": [
       "0.07068497345290015"
      ]
     },
     "execution_count": 42,
     "metadata": {},
     "output_type": "execute_result"
    }
   ],
   "source": [
    "#Finding the optimal scaling range xmin, the one that results in the minimal KS distance, D\n",
    "fit = powerlaw.Fit(Images_Plante)"
   ]
  },
  {
   "cell_type": "code",
   "execution_count": 43,
   "metadata": {},
   "outputs": [
    {
     "data": {
      "text/plain": [
       "76.0"
      ]
     },
     "execution_count": 43,
     "metadata": {},
     "output_type": "execute_result"
    }
   ],
   "source": [
    "fit.xmin"
   ]
  },
  {
   "cell_type": "code",
   "execution_count": 44,
   "metadata": {},
   "outputs": [
    {
     "data": {
      "text/plain": [
       "False"
      ]
     },
     "execution_count": 44,
     "metadata": {},
     "output_type": "execute_result"
    }
   ],
   "source": [
    "fit.fixed_xmin"
   ]
  },
  {
   "cell_type": "code",
   "execution_count": 45,
   "metadata": {},
   "outputs": [
    {
     "data": {
      "text/plain": [
       "1.6655656751820782"
      ]
     },
     "execution_count": 45,
     "metadata": {},
     "output_type": "execute_result"
    }
   ],
   "source": [
    "fit.power_law.alpha"
   ]
  },
  {
   "cell_type": "code",
   "execution_count": 46,
   "metadata": {},
   "outputs": [
    {
     "data": {
      "text/plain": [
       "0.07068497345290015"
      ]
     },
     "execution_count": 46,
     "metadata": {},
     "output_type": "execute_result"
    }
   ],
   "source": [
    "fit.power_law.D"
   ]
  },
  {
   "cell_type": "code",
   "execution_count": 48,
   "metadata": {},
   "outputs": [
    {
     "data": {
      "text/plain": [
       "1.0"
      ]
     },
     "execution_count": 48,
     "metadata": {},
     "output_type": "execute_result"
    }
   ],
   "source": [
    "fit2 = powerlaw.Fit(Images_Plante, xmin=1.0)\n",
    "fit2.xmin"
   ]
  },
  {
   "cell_type": "code",
   "execution_count": 49,
   "metadata": {},
   "outputs": [
    {
     "data": {
      "text/plain": [
       "True"
      ]
     },
     "execution_count": 49,
     "metadata": {},
     "output_type": "execute_result"
    }
   ],
   "source": [
    "fit2.fixed_xmin"
   ]
  },
  {
   "cell_type": "code",
   "execution_count": 50,
   "metadata": {},
   "outputs": [
    {
     "data": {
      "text/plain": [
       "1.269711039361097"
      ]
     },
     "execution_count": 50,
     "metadata": {},
     "output_type": "execute_result"
    }
   ],
   "source": [
    "fit2.power_law.alpha"
   ]
  },
  {
   "cell_type": "code",
   "execution_count": 51,
   "metadata": {},
   "outputs": [
    {
     "data": {
      "text/plain": [
       "0.31195352537148724"
      ]
     },
     "execution_count": 51,
     "metadata": {},
     "output_type": "execute_result"
    }
   ],
   "source": [
    "fit2.power_law.D"
   ]
  },
  {
   "cell_type": "code",
   "execution_count": 54,
   "metadata": {},
   "outputs": [
    {
     "name": "stdout",
     "output_type": "stream",
     "text": [
      "Calculating best minimal value for power law fit\n",
      "xmin progress: 99%\r"
     ]
    },
    {
     "data": {
      "text/plain": [
       "False"
      ]
     },
     "execution_count": 54,
     "metadata": {},
     "output_type": "execute_result"
    }
   ],
   "source": [
    "#Continuous vs discrete data\n",
    "fit = powerlaw.Fit(Images_Plante)\n",
    "fit.discrete"
   ]
  },
  {
   "cell_type": "code",
   "execution_count": 53,
   "metadata": {},
   "outputs": [
    {
     "name": "stdout",
     "output_type": "stream",
     "text": [
      "Calculating best minimal value for power law fit\n",
      "xmin progress: 99%\r"
     ]
    },
    {
     "data": {
      "text/plain": [
       "True"
      ]
     },
     "execution_count": 53,
     "metadata": {},
     "output_type": "execute_result"
    }
   ],
   "source": [
    "fit3 = powerlaw.Fit(Images_Plante, discrete=True)\n",
    "fit3.discrete"
   ]
  },
  {
   "cell_type": "code",
   "execution_count": 56,
   "metadata": {},
   "outputs": [
    {
     "name": "stdout",
     "output_type": "stream",
     "text": [
      "5.377418866548815 7.556124443251332e-08\n"
     ]
    }
   ],
   "source": [
    "#Comparing candidate distributions\n",
    "# We have to compare the fit of several candidate distributions and identify which one fits the best\n",
    "R, p = fit.distribution_compare('power_law', 'exponential', normalized_ratio=True)\n",
    "print(R, p)\n",
    "# If R is positive then the first ditribution proposed, power_law fits better our data than exponential\n"
   ]
  },
  {
   "cell_type": "code",
   "execution_count": 82,
   "metadata": {},
   "outputs": [
    {
     "data": {
      "text/plain": [
       "{'power_law': powerlaw.Power_Law,\n",
       " 'lognormal': powerlaw.Lognormal,\n",
       " 'exponential': powerlaw.Exponential,\n",
       " 'truncated_power_law': powerlaw.Truncated_Power_Law,\n",
       " 'stretched_exponential': powerlaw.Stretched_Exponential,\n",
       " 'lognormal_positive': powerlaw.Lognormal_Positive}"
      ]
     },
     "execution_count": 82,
     "metadata": {},
     "output_type": "execute_result"
    }
   ],
   "source": [
    "fit.supported_distributions\n"
   ]
  },
  {
   "cell_type": "code",
   "execution_count": 59,
   "metadata": {},
   "outputs": [
    {
     "name": "stdout",
     "output_type": "stream",
     "text": [
      "-3.482959821666425 0.000495902784078453\n"
     ]
    }
   ],
   "source": [
    "R2, p2 = fit.distribution_compare('power_law', 'lognormal', normalized_ratio=True)\n",
    "print(R2, p2)"
   ]
  },
  {
   "cell_type": "code",
   "execution_count": 67,
   "metadata": {},
   "outputs": [
    {
     "data": {
      "text/plain": [
       "<AxesSubplot:>"
      ]
     },
     "execution_count": 67,
     "metadata": {},
     "output_type": "execute_result"
    },
    {
     "data": {
      "image/png": "[encoded data removed]",
      "text/plain": [
       "<Figure size 432x288 with 1 Axes>"
      ]
     },
     "metadata": {
      "needs_background": "light"
     },
     "output_type": "display_data"
    }
   ],
   "source": [
    "fig4 = fit.plot_ccdf(linewidth=3)\n",
    "fit.power_law.plot_ccdf(ax=fig4, color='r', linestyle='--')\n",
    "fit.lognormal.plot_ccdf(ax=fig4, color='g', linestyle='--')"
   ]
  },
  {
   "cell_type": "code",
   "execution_count": 60,
   "metadata": {},
   "outputs": [
    {
     "name": "stdout",
     "output_type": "stream",
     "text": [
      "-3.675553845836237 0.0002373339750012467\n"
     ]
    }
   ],
   "source": [
    "R3, p3 = fit.distribution_compare('lognormal', 'truncated_power_law', normalized_ratio=True)\n",
    "print(R3, p3)"
   ]
  },
  {
   "cell_type": "code",
   "execution_count": 71,
   "metadata": {},
   "outputs": [
    {
     "data": {
      "text/plain": [
       "<AxesSubplot:>"
      ]
     },
     "execution_count": 71,
     "metadata": {},
     "output_type": "execute_result"
    },
    {
     "data": {
      "image/png": "[encoded data removed]",
      "text/plain": [
       "<Figure size 432x288 with 1 Axes>"
      ]
     },
     "metadata": {
      "needs_background": "light"
     },
     "output_type": "display_data"
    }
   ],
   "source": [
    "fig5 = fit.plot_ccdf(linewidth=3)\n",
    "fit.lognormal.plot_ccdf(ax=fig5, color='g', linestyle='--')\n",
    "fit.truncated_power_law.plot_ccdf(ax=fig5, color='r', linestyle='--')"
   ]
  },
  {
   "cell_type": "code",
   "execution_count": 61,
   "metadata": {},
   "outputs": [
    {
     "name": "stdout",
     "output_type": "stream",
     "text": [
      "3.2717498983481725 0.001068840820731082\n"
     ]
    }
   ],
   "source": [
    "R4, p4 = fit.distribution_compare('truncated_power_law', 'stretched_exponential', normalized_ratio=True)\n",
    "print(R4, p4)"
   ]
  },
  {
   "cell_type": "code",
   "execution_count": 62,
   "metadata": {},
   "outputs": [
    {
     "name": "stdout",
     "output_type": "stream",
     "text": [
      "3.675553845836237 0.0002373339750012467\n"
     ]
    }
   ],
   "source": [
    "R5, p5 = fit.distribution_compare('truncated_power_law', 'lognormal_positive', normalized_ratio=True)\n",
    "print(R5, p5)\n",
    "#And thus the best fit is the truncated_power_law, it is to be noted that this distribution has 2 degrees of freedom and therefore\n",
    "#a fitting advantage compared to the lognormal"
   ]
  },
  {
   "cell_type": "code",
   "execution_count": 91,
   "metadata": {},
   "outputs": [
    {
     "data": {
      "text/plain": [
       "<AxesSubplot:>"
      ]
     },
     "execution_count": 91,
     "metadata": {},
     "output_type": "execute_result"
    },
    {
     "data": {
      "image/png": "[encoded data removed]",
      "text/plain": [
       "<Figure size 432x288 with 1 Axes>"
      ]
     },
     "metadata": {
      "needs_background": "light"
     },
     "output_type": "display_data"
    }
   ],
   "source": [
    "#PDF, CDF and CCDF of our data with the best fit, truncated_power_law fit\n",
    "fig8 = fit.plot_pdf(color='b', linewidth=2)\n",
    "fit.truncated_power_law.plot_pdf(color='b', linestyle='--', ax=fig8)\n",
    "fit.plot_cdf(color='purple', linewidth=2, ax=fig8)\n",
    "fit.truncated_power_law.plot_cdf(color='purple', linestyle='--', ax=fig8)\n",
    "fit.plot_ccdf(color='r', linewidth=2, ax=fig8)\n",
    "fit.truncated_power_law.plot_ccdf(color='r', linestyle='--', ax=fig8)"
   ]
  },
  {
   "cell_type": "code",
   "execution_count": 92,
   "metadata": {},
   "outputs": [
    {
     "data": {
      "text/plain": [
       "<AxesSubplot:>"
      ]
     },
     "execution_count": 92,
     "metadata": {},
     "output_type": "execute_result"
    },
    {
     "data": {
      "image/png": "[encoded data removed]",
      "text/plain": [
       "<Figure size 432x288 with 1 Axes>"
      ]
     },
     "metadata": {
      "needs_background": "light"
     },
     "output_type": "display_data"
    }
   ],
   "source": [
    "#PDF, CDF and CCDF of our data with the best fit with only degree of freedom, lognormal fit\n",
    "fig9 = fit.plot_pdf(color='b', linewidth=2)\n",
    "fit.lognormal.plot_pdf(color='b', linestyle='--', ax=fig9)\n",
    "fit.plot_cdf(color='purple', linewidth=2, ax=fig9)\n",
    "fit.lognormal.plot_cdf(color='purple', linestyle='--', ax=fig9)\n",
    "fit.plot_ccdf(color='r', linewidth=2, ax=fig9)\n",
    "fit.lognormal.plot_ccdf(color='r', linestyle='--', ax=fig9)"
   ]
  },
  {
   "cell_type": "code",
   "execution_count": 95,
   "metadata": {},
   "outputs": [
    {
     "data": {
      "text/plain": [
       "[<matplotlib.lines.Line2D at 0x2231c8e1d80>]"
      ]
     },
     "execution_count": 95,
     "metadata": {},
     "output_type": "execute_result"
    },
    {
     "data": {
      "image/png": "[encoded data removed]",
      "text/plain": [
       "<Figure size 432x288 with 1 Axes>"
      ]
     },
     "metadata": {
      "needs_background": "light"
     },
     "output_type": "display_data"
    }
   ],
   "source": [
    "plt.plot(Images_Genre)"
   ]
  },
  {
   "cell_type": "code",
   "execution_count": 72,
   "metadata": {},
   "outputs": [
    {
     "data": {
      "text/html": [
       "<div>\n",
       "<style scoped>\n",
       "    .dataframe tbody tr th:only-of-type {\n",
       "        vertical-align: middle;\n",
       "    }\n",
       "\n",
       "    .dataframe tbody tr th {\n",
       "        vertical-align: top;\n",
       "    }\n",
       "\n",
       "    .dataframe thead th {\n",
       "        text-align: right;\n",
       "    }\n",
       "</style>\n",
       "<table border=\"1\" class=\"dataframe\">\n",
       "  <thead>\n",
       "    <tr style=\"text-align: right;\">\n",
       "      <th></th>\n",
       "      <th>Genre</th>\n",
       "      <th>Images_Genre</th>\n",
       "    </tr>\n",
       "  </thead>\n",
       "  <tbody>\n",
       "    <tr>\n",
       "      <th>0</th>\n",
       "      <td>Trifolium</td>\n",
       "      <td>18333</td>\n",
       "    </tr>\n",
       "    <tr>\n",
       "      <th>1</th>\n",
       "      <td>Sedum</td>\n",
       "      <td>16920</td>\n",
       "    </tr>\n",
       "    <tr>\n",
       "      <th>2</th>\n",
       "      <td>Anemone</td>\n",
       "      <td>16162</td>\n",
       "    </tr>\n",
       "    <tr>\n",
       "      <th>3</th>\n",
       "      <td>Lamium</td>\n",
       "      <td>15485</td>\n",
       "    </tr>\n",
       "    <tr>\n",
       "      <th>4</th>\n",
       "      <td>Cirsium</td>\n",
       "      <td>15124</td>\n",
       "    </tr>\n",
       "    <tr>\n",
       "      <th>...</th>\n",
       "      <td>...</td>\n",
       "      <td>...</td>\n",
       "    </tr>\n",
       "    <tr>\n",
       "      <th>298</th>\n",
       "      <td>Xylococcus</td>\n",
       "      <td>4</td>\n",
       "    </tr>\n",
       "    <tr>\n",
       "      <th>299</th>\n",
       "      <td>Heteromorpha</td>\n",
       "      <td>4</td>\n",
       "    </tr>\n",
       "    <tr>\n",
       "      <th>300</th>\n",
       "      <td>Atractocarpus</td>\n",
       "      <td>4</td>\n",
       "    </tr>\n",
       "    <tr>\n",
       "      <th>301</th>\n",
       "      <td>Coryphantha</td>\n",
       "      <td>4</td>\n",
       "    </tr>\n",
       "    <tr>\n",
       "      <th>302</th>\n",
       "      <td>Freycinetia</td>\n",
       "      <td>4</td>\n",
       "    </tr>\n",
       "  </tbody>\n",
       "</table>\n",
       "<p>303 rows × 2 columns</p>\n",
       "</div>"
      ],
      "text/plain": [
       "             Genre  Images_Genre\n",
       "0        Trifolium         18333\n",
       "1            Sedum         16920\n",
       "2          Anemone         16162\n",
       "3           Lamium         15485\n",
       "4          Cirsium         15124\n",
       "..             ...           ...\n",
       "298     Xylococcus             4\n",
       "299   Heteromorpha             4\n",
       "300  Atractocarpus             4\n",
       "301    Coryphantha             4\n",
       "302    Freycinetia             4\n",
       "\n",
       "[303 rows x 2 columns]"
      ]
     },
     "execution_count": 72,
     "metadata": {},
     "output_type": "execute_result"
    }
   ],
   "source": [
    "#Generas\n",
    "df2 = pandas.read_csv('Donnees_CSV/Especes2.csv')\n",
    "df2"
   ]
  },
  {
   "cell_type": "code",
   "execution_count": 74,
   "metadata": {},
   "outputs": [
    {
     "data": {
      "text/html": [
       "<div>\n",
       "<style scoped>\n",
       "    .dataframe tbody tr th:only-of-type {\n",
       "        vertical-align: middle;\n",
       "    }\n",
       "\n",
       "    .dataframe tbody tr th {\n",
       "        vertical-align: top;\n",
       "    }\n",
       "\n",
       "    .dataframe thead th {\n",
       "        text-align: right;\n",
       "    }\n",
       "</style>\n",
       "<table border=\"1\" class=\"dataframe\">\n",
       "  <thead>\n",
       "    <tr style=\"text-align: right;\">\n",
       "      <th></th>\n",
       "      <th>Genre</th>\n",
       "      <th>Images_Genre</th>\n",
       "      <th>Rank</th>\n",
       "    </tr>\n",
       "  </thead>\n",
       "  <tbody>\n",
       "    <tr>\n",
       "      <th>0</th>\n",
       "      <td>Trifolium</td>\n",
       "      <td>18333</td>\n",
       "      <td>1.0</td>\n",
       "    </tr>\n",
       "    <tr>\n",
       "      <th>1</th>\n",
       "      <td>Sedum</td>\n",
       "      <td>16920</td>\n",
       "      <td>2.0</td>\n",
       "    </tr>\n",
       "    <tr>\n",
       "      <th>2</th>\n",
       "      <td>Anemone</td>\n",
       "      <td>16162</td>\n",
       "      <td>3.0</td>\n",
       "    </tr>\n",
       "    <tr>\n",
       "      <th>3</th>\n",
       "      <td>Lamium</td>\n",
       "      <td>15485</td>\n",
       "      <td>4.0</td>\n",
       "    </tr>\n",
       "    <tr>\n",
       "      <th>4</th>\n",
       "      <td>Cirsium</td>\n",
       "      <td>15124</td>\n",
       "      <td>5.0</td>\n",
       "    </tr>\n",
       "    <tr>\n",
       "      <th>...</th>\n",
       "      <td>...</td>\n",
       "      <td>...</td>\n",
       "      <td>...</td>\n",
       "    </tr>\n",
       "    <tr>\n",
       "      <th>298</th>\n",
       "      <td>Xylococcus</td>\n",
       "      <td>4</td>\n",
       "      <td>295.0</td>\n",
       "    </tr>\n",
       "    <tr>\n",
       "      <th>299</th>\n",
       "      <td>Heteromorpha</td>\n",
       "      <td>4</td>\n",
       "      <td>295.0</td>\n",
       "    </tr>\n",
       "    <tr>\n",
       "      <th>300</th>\n",
       "      <td>Atractocarpus</td>\n",
       "      <td>4</td>\n",
       "      <td>295.0</td>\n",
       "    </tr>\n",
       "    <tr>\n",
       "      <th>301</th>\n",
       "      <td>Coryphantha</td>\n",
       "      <td>4</td>\n",
       "      <td>295.0</td>\n",
       "    </tr>\n",
       "    <tr>\n",
       "      <th>302</th>\n",
       "      <td>Freycinetia</td>\n",
       "      <td>4</td>\n",
       "      <td>295.0</td>\n",
       "    </tr>\n",
       "  </tbody>\n",
       "</table>\n",
       "<p>303 rows × 3 columns</p>\n",
       "</div>"
      ],
      "text/plain": [
       "             Genre  Images_Genre   Rank\n",
       "0        Trifolium         18333    1.0\n",
       "1            Sedum         16920    2.0\n",
       "2          Anemone         16162    3.0\n",
       "3           Lamium         15485    4.0\n",
       "4          Cirsium         15124    5.0\n",
       "..             ...           ...    ...\n",
       "298     Xylococcus             4  295.0\n",
       "299   Heteromorpha             4  295.0\n",
       "300  Atractocarpus             4  295.0\n",
       "301    Coryphantha             4  295.0\n",
       "302    Freycinetia             4  295.0\n",
       "\n",
       "[303 rows x 3 columns]"
      ]
     },
     "execution_count": 74,
     "metadata": {},
     "output_type": "execute_result"
    }
   ],
   "source": [
    "df2['Rank']=df2['Images_Genre'].rank(ascending=0)\n",
    "df2"
   ]
  },
  {
   "cell_type": "code",
   "execution_count": 75,
   "metadata": {},
   "outputs": [
    {
     "data": {
      "text/plain": [
       "[18333,\n",
       " 16920,\n",
       " 16162,\n",
       " 15485,\n",
       " 15124,\n",
       " 14979,\n",
       " 10766,\n",
       " 9557,\n",
       " 9039,\n",
       " 8574,\n",
       " 7735,\n",
       " 7579,\n",
       " 7437,\n",
       " 7015,\n",
       " 6828,\n",
       " 5684,\n",
       " 5464,\n",
       " 4604,\n",
       " 4415,\n",
       " 4155,\n",
       " 4019,\n",
       " 3543,\n",
       " 3514,\n",
       " 3485,\n",
       " 3405,\n",
       " 3349,\n",
       " 3094,\n",
       " 3016,\n",
       " 2983,\n",
       " 2958,\n",
       " 2694,\n",
       " 2632,\n",
       " 2611,\n",
       " 2589,\n",
       " 2511,\n",
       " 2506,\n",
       " 2460,\n",
       " 2164,\n",
       " 2092,\n",
       " 2026,\n",
       " 1914,\n",
       " 1837,\n",
       " 1784,\n",
       " 1700,\n",
       " 1615,\n",
       " 1479,\n",
       " 1452,\n",
       " 1403,\n",
       " 1358,\n",
       " 1356,\n",
       " 1288,\n",
       " 1226,\n",
       " 1155,\n",
       " 1117,\n",
       " 988,\n",
       " 923,\n",
       " 917,\n",
       " 905,\n",
       " 872,\n",
       " 812,\n",
       " 795,\n",
       " 707,\n",
       " 679,\n",
       " 641,\n",
       " 596,\n",
       " 595,\n",
       " 593,\n",
       " 549,\n",
       " 548,\n",
       " 544,\n",
       " 526,\n",
       " 483,\n",
       " 470,\n",
       " 462,\n",
       " 457,\n",
       " 454,\n",
       " 429,\n",
       " 417,\n",
       " 416,\n",
       " 413,\n",
       " 400,\n",
       " 386,\n",
       " 380,\n",
       " 378,\n",
       " 366,\n",
       " 366,\n",
       " 366,\n",
       " 345,\n",
       " 315,\n",
       " 306,\n",
       " 302,\n",
       " 295,\n",
       " 292,\n",
       " 275,\n",
       " 274,\n",
       " 269,\n",
       " 268,\n",
       " 251,\n",
       " 249,\n",
       " 243,\n",
       " 240,\n",
       " 235,\n",
       " 229,\n",
       " 219,\n",
       " 214,\n",
       " 212,\n",
       " 201,\n",
       " 193,\n",
       " 191,\n",
       " 189,\n",
       " 183,\n",
       " 181,\n",
       " 177,\n",
       " 176,\n",
       " 165,\n",
       " 161,\n",
       " 157,\n",
       " 156,\n",
       " 154,\n",
       " 154,\n",
       " 151,\n",
       " 150,\n",
       " 147,\n",
       " 141,\n",
       " 135,\n",
       " 125,\n",
       " 124,\n",
       " 123,\n",
       " 118,\n",
       " 112,\n",
       " 111,\n",
       " 111,\n",
       " 103,\n",
       " 99,\n",
       " 95,\n",
       " 92,\n",
       " 88,\n",
       " 88,\n",
       " 88,\n",
       " 85,\n",
       " 78,\n",
       " 76,\n",
       " 72,\n",
       " 71,\n",
       " 69,\n",
       " 64,\n",
       " 63,\n",
       " 60,\n",
       " 60,\n",
       " 59,\n",
       " 56,\n",
       " 52,\n",
       " 50,\n",
       " 49,\n",
       " 48,\n",
       " 48,\n",
       " 48,\n",
       " 47,\n",
       " 47,\n",
       " 47,\n",
       " 47,\n",
       " 46,\n",
       " 44,\n",
       " 44,\n",
       " 43,\n",
       " 42,\n",
       " 39,\n",
       " 35,\n",
       " 34,\n",
       " 34,\n",
       " 33,\n",
       " 33,\n",
       " 33,\n",
       " 33,\n",
       " 32,\n",
       " 32,\n",
       " 30,\n",
       " 30,\n",
       " 30,\n",
       " 30,\n",
       " 29,\n",
       " 29,\n",
       " 27,\n",
       " 27,\n",
       " 27,\n",
       " 27,\n",
       " 27,\n",
       " 26,\n",
       " 26,\n",
       " 25,\n",
       " 25,\n",
       " 25,\n",
       " 24,\n",
       " 24,\n",
       " 24,\n",
       " 23,\n",
       " 23,\n",
       " 23,\n",
       " 23,\n",
       " 22,\n",
       " 22,\n",
       " 21,\n",
       " 21,\n",
       " 21,\n",
       " 21,\n",
       " 20,\n",
       " 20,\n",
       " 20,\n",
       " 19,\n",
       " 18,\n",
       " 18,\n",
       " 17,\n",
       " 16,\n",
       " 15,\n",
       " 15,\n",
       " 15,\n",
       " 15,\n",
       " 14,\n",
       " 14,\n",
       " 14,\n",
       " 14,\n",
       " 14,\n",
       " 14,\n",
       " 13,\n",
       " 13,\n",
       " 13,\n",
       " 13,\n",
       " 13,\n",
       " 13,\n",
       " 12,\n",
       " 11,\n",
       " 11,\n",
       " 11,\n",
       " 11,\n",
       " 11,\n",
       " 11,\n",
       " 11,\n",
       " 10,\n",
       " 10,\n",
       " 10,\n",
       " 10,\n",
       " 10,\n",
       " 10,\n",
       " 9,\n",
       " 9,\n",
       " 9,\n",
       " 9,\n",
       " 9,\n",
       " 9,\n",
       " 8,\n",
       " 8,\n",
       " 8,\n",
       " 8,\n",
       " 8,\n",
       " 7,\n",
       " 7,\n",
       " 7,\n",
       " 7,\n",
       " 7,\n",
       " 7,\n",
       " 7,\n",
       " 6,\n",
       " 6,\n",
       " 6,\n",
       " 6,\n",
       " 6,\n",
       " 6,\n",
       " 6,\n",
       " 6,\n",
       " 6,\n",
       " 6,\n",
       " 6,\n",
       " 5,\n",
       " 5,\n",
       " 5,\n",
       " 5,\n",
       " 5,\n",
       " 5,\n",
       " 5,\n",
       " 5,\n",
       " 5,\n",
       " 5,\n",
       " 5,\n",
       " 5,\n",
       " 5,\n",
       " 5,\n",
       " 4,\n",
       " 4,\n",
       " 4,\n",
       " 4,\n",
       " 4,\n",
       " 4,\n",
       " 4,\n",
       " 4,\n",
       " 4,\n",
       " 4,\n",
       " 4,\n",
       " 4,\n",
       " 4,\n",
       " 4,\n",
       " 4,\n",
       " 4,\n",
       " 4]"
      ]
     },
     "execution_count": 75,
     "metadata": {},
     "output_type": "execute_result"
    }
   ],
   "source": [
    "Images_Genre = df2['Images_Genre'].values.tolist()\n",
    "Images_Genre"
   ]
  },
  {
   "cell_type": "code",
   "execution_count": 76,
   "metadata": {},
   "outputs": [
    {
     "name": "stdout",
     "output_type": "stream",
     "text": [
      "Calculating best minimal value for power law fit\n",
      "xmin progress: 00%\r",
      "xmin progress: 00%\r",
      "xmin progress: 01%\r",
      "xmin progress: 01%\r",
      "xmin progress: 02%\r",
      "xmin progress: 02%\r",
      "xmin progress: 03%\r",
      "xmin progress: 03%\r",
      "xmin progress: 04%\r",
      "xmin progress: 04%\r",
      "xmin progress: 05%\r",
      "xmin progress: 06%\r",
      "xmin progress: 06%\r",
      "xmin progress: 07%\r",
      "xmin progress: 07%\r",
      "xmin progress: 08%\r",
      "xmin progress: 08%\r",
      "xmin progress: 09%\r",
      "xmin progress: 09%\r",
      "xmin progress: 10%\r",
      "xmin progress: 10%\r",
      "xmin progress: 11%\r",
      "xmin progress: 12%\r",
      "xmin progress: 12%\r",
      "xmin progress: 13%\r",
      "xmin progress: 13%\r",
      "xmin progress: 14%\r",
      "xmin progress: 14%\r",
      "xmin progress: 15%\r",
      "xmin progress: 15%\r",
      "xmin progress: 16%\r",
      "xmin progress: 16%\r",
      "xmin progress: 17%\r",
      "xmin progress: 18%\r",
      "xmin progress: 18%\r",
      "xmin progress: 19%\r",
      "xmin progress: 19%\r",
      "xmin progress: 20%\r",
      "xmin progress: 20%\r",
      "xmin progress: 21%\r",
      "xmin progress: 21%\r",
      "xmin progress: 22%\r",
      "xmin progress: 22%\r",
      "xmin progress: 23%\r",
      "xmin progress: 24%\r",
      "xmin progress: 24%\r",
      "xmin progress: 25%\r",
      "xmin progress: 25%\r",
      "xmin progress: 26%\r",
      "xmin progress: 26%\r",
      "xmin progress: 27%\r",
      "xmin progress: 27%\r",
      "xmin progress: 28%\r",
      "xmin progress: 28%\r",
      "xmin progress: 29%\r",
      "xmin progress: 30%\r",
      "xmin progress: 30%\r",
      "xmin progress: 31%\r",
      "xmin progress: 31%\r",
      "xmin progress: 32%\r",
      "xmin progress: 32%\r",
      "xmin progress: 33%\r",
      "xmin progress: 33%\r",
      "xmin progress: 34%\r",
      "xmin progress: 34%\r",
      "xmin progress: 35%\r",
      "xmin progress: 36%\r",
      "xmin progress: 36%\r",
      "xmin progress: 37%\r",
      "xmin progress: 37%\r",
      "xmin progress: 38%\r",
      "xmin progress: 38%\r",
      "xmin progress: 39%\r",
      "xmin progress: 39%\r",
      "xmin progress: 40%\r",
      "xmin progress: 40%\r",
      "xmin progress: 41%\r",
      "xmin progress: 42%\r",
      "xmin progress: 42%\r",
      "xmin progress: 43%\r",
      "xmin progress: 43%\r",
      "xmin progress: 44%\r",
      "xmin progress: 44%\r",
      "xmin progress: 45%\r",
      "xmin progress: 45%\r",
      "xmin progress: 46%\r",
      "xmin progress: 46%\r",
      "xmin progress: 47%\r",
      "xmin progress: 48%\r",
      "xmin progress: 48%\r",
      "xmin progress: 49%\r",
      "xmin progress: 49%\r",
      "xmin progress: 50%\r",
      "xmin progress: 50%\r",
      "xmin progress: 51%\r",
      "xmin progress: 51%\r",
      "xmin progress: 52%\r",
      "xmin progress: 53%\r",
      "xmin progress: 53%\r",
      "xmin progress: 54%\r",
      "xmin progress: 54%\r",
      "xmin progress: 55%\r",
      "xmin progress: 55%\r",
      "xmin progress: 56%\r",
      "xmin progress: 56%\r",
      "xmin progress: 57%\r",
      "xmin progress: 57%\r",
      "xmin progress: 58%\r",
      "xmin progress: 59%\r",
      "xmin progress: 59%\r",
      "xmin progress: 60%\r",
      "xmin progress: 60%\r",
      "xmin progress: 61%\r",
      "xmin progress: 61%\r",
      "xmin progress: 62%\r",
      "xmin progress: 62%\r",
      "xmin progress: 63%\r",
      "xmin progress: 63%\r",
      "xmin progress: 64%\r",
      "xmin progress: 65%\r",
      "xmin progress: 65%\r",
      "xmin progress: 66%\r",
      "xmin progress: 66%\r",
      "xmin progress: 67%\r",
      "xmin progress: 67%\r",
      "xmin progress: 68%\r",
      "xmin progress: 68%\r",
      "xmin progress: 69%\r",
      "xmin progress: 69%\r",
      "xmin progress: 70%\r",
      "xmin progress: 71%\r",
      "xmin progress: 71%\r",
      "xmin progress: 72%\r",
      "xmin progress: 72%\r",
      "xmin progress: 73%\r",
      "xmin progress: 73%\r",
      "xmin progress: 74%\r",
      "xmin progress: 74%\r",
      "xmin progress: 75%\r",
      "xmin progress: 75%\r",
      "xmin progress: 76%\r",
      "xmin progress: 77%\r",
      "xmin progress: 77%\r",
      "xmin progress: 78%\r",
      "xmin progress: 78%\r",
      "xmin progress: 79%\r",
      "xmin progress: 79%\r",
      "xmin progress: 80%\r",
      "xmin progress: 80%\r",
      "xmin progress: 81%\r",
      "xmin progress: 81%\r",
      "xmin progress: 82%\r",
      "xmin progress: 83%\r",
      "xmin progress: 83%\r",
      "xmin progress: 84%\r",
      "xmin progress: 84%\r",
      "xmin progress: 85%\r",
      "xmin progress: 85%\r",
      "xmin progress: 86%\r",
      "xmin progress: 86%\r",
      "xmin progress: 87%\r",
      "xmin progress: 87%\r",
      "xmin progress: 88%\r",
      "xmin progress: 89%\r",
      "xmin progress: 89%\r",
      "xmin progress: 90%\r",
      "xmin progress: 90%\r",
      "xmin progress: 91%\r",
      "xmin progress: 91%\r",
      "xmin progress: 92%\r",
      "xmin progress: 92%\r",
      "xmin progress: 93%\r",
      "xmin progress: 93%\r",
      "xmin progress: 94%\r",
      "xmin progress: 95%\r",
      "xmin progress: 95%\r",
      "xmin progress: 96%\r",
      "xmin progress: 96%\r",
      "xmin progress: 97%\r",
      "xmin progress: 97%\r",
      "xmin progress: 98%\r",
      "xmin progress: 98%\r",
      "xmin progress: 99%\r"
     ]
    }
   ],
   "source": [
    "fit11 = powerlaw.Fit(Images_Genre)"
   ]
  },
  {
   "cell_type": "code",
   "execution_count": 77,
   "metadata": {},
   "outputs": [
    {
     "data": {
      "text/plain": [
       "<AxesSubplot:>"
      ]
     },
     "execution_count": 77,
     "metadata": {},
     "output_type": "execute_result"
    },
    {
     "data": {
      "image/png": "[encoded data removed]",
      "text/plain": [
       "<Figure size 432x288 with 1 Axes>"
      ]
     },
     "metadata": {
      "needs_background": "light"
     },
     "output_type": "display_data"
    }
   ],
   "source": [
    "#Basic Methods\n",
    "#Visualization\n",
    "#PDF of our data with logarithmic and linear binning\n",
    "powerlaw.plot_pdf(Images_Genre, color='b')\n",
    "powerlaw.plot_pdf(Images_Genre, linear_bins=True, color='r')"
   ]
  },
  {
   "cell_type": "code",
   "execution_count": 78,
   "metadata": {},
   "outputs": [
    {
     "data": {
      "text/plain": [
       "4.0"
      ]
     },
     "execution_count": 78,
     "metadata": {},
     "output_type": "execute_result"
    }
   ],
   "source": [
    "fit11.xmin"
   ]
  },
  {
   "cell_type": "code",
   "execution_count": 79,
   "metadata": {},
   "outputs": [
    {
     "data": {
      "text/plain": [
       "1.3235176384799792"
      ]
     },
     "execution_count": 79,
     "metadata": {},
     "output_type": "execute_result"
    }
   ],
   "source": [
    "fit11.power_law.alpha"
   ]
  },
  {
   "cell_type": "code",
   "execution_count": 80,
   "metadata": {},
   "outputs": [
    {
     "name": "stdout",
     "output_type": "stream",
     "text": [
      "9.577638618177119 9.928900131490675e-22\n"
     ]
    }
   ],
   "source": [
    "#Comparing candidate distributions\n",
    "# We have to compare the fit of several candidate distributions and identify which one fits the best\n",
    "R11, p11 = fit11.distribution_compare('power_law', 'exponential', normalized_ratio=True)\n",
    "print(R11, p11)\n",
    "# If R is positive then the first ditribution proposed, power_law fits better our data than exponential"
   ]
  },
  {
   "cell_type": "code",
   "execution_count": 83,
   "metadata": {},
   "outputs": [
    {
     "name": "stdout",
     "output_type": "stream",
     "text": [
      "-3.597229548633242 0.00032162462910655847\n"
     ]
    }
   ],
   "source": [
    "R12, p12 = fit11.distribution_compare('power_law', 'lognormal', normalized_ratio=True)\n",
    "print(R12, p12)"
   ]
  },
  {
   "cell_type": "code",
   "execution_count": 84,
   "metadata": {},
   "outputs": [
    {
     "name": "stdout",
     "output_type": "stream",
     "text": [
      "-4.789757773697255 1.6698276227876321e-06\n"
     ]
    }
   ],
   "source": [
    "R13, p13 = fit11.distribution_compare('lognormal', 'truncated_power_law', normalized_ratio=True)\n",
    "print(R13, p13)"
   ]
  },
  {
   "cell_type": "code",
   "execution_count": 85,
   "metadata": {},
   "outputs": [
    {
     "name": "stdout",
     "output_type": "stream",
     "text": [
      "-4.02713599468706 5.646037940395693e-05\n"
     ]
    }
   ],
   "source": [
    "R14, p14 = fit11.distribution_compare('stretched_exponential', 'truncated_power_law', normalized_ratio=True)\n",
    "print(R14, p14)"
   ]
  },
  {
   "cell_type": "code",
   "execution_count": 86,
   "metadata": {},
   "outputs": [
    {
     "name": "stdout",
     "output_type": "stream",
     "text": [
      "4.789653031368119 1.6706994433448597e-06\n"
     ]
    }
   ],
   "source": [
    "R15, p15 = fit11.distribution_compare('truncated_power_law', 'lognormal_positive', normalized_ratio=True)\n",
    "print(R15, p15)\n",
    "#And thus the best fit is the truncated_power_law, it is to be noted that this distribution has 2 degrees of freedom and therefore\n",
    "#a fitting advantage compared to the lognormal"
   ]
  },
  {
   "cell_type": "code",
   "execution_count": 89,
   "metadata": {},
   "outputs": [
    {
     "data": {
      "text/plain": [
       "<AxesSubplot:>"
      ]
     },
     "execution_count": 89,
     "metadata": {},
     "output_type": "execute_result"
    },
    {
     "data": {
      "image/png": "[encoded data removed]",
      "text/plain": [
       "<Figure size 432x288 with 1 Axes>"
      ]
     },
     "metadata": {
      "needs_background": "light"
     },
     "output_type": "display_data"
    }
   ],
   "source": [
    "#PDF, CDF and CCDF of our data with the best fit, truncated_power_law fit\n",
    "fig6 = fit11.plot_pdf(color='b', linewidth=2)\n",
    "fit11.truncated_power_law.plot_pdf(color='b', linestyle='--', ax=fig6)\n",
    "fit11.plot_cdf(color='purple', linewidth=2, ax=fig6)\n",
    "fit11.truncated_power_law.plot_cdf(color='purple', linestyle='--', ax=fig6)\n",
    "fit11.plot_ccdf(color='r', linewidth=2, ax=fig6)\n",
    "fit11.truncated_power_law.plot_ccdf(color='r', linestyle='--', ax=fig6)\n"
   ]
  },
  {
   "cell_type": "code",
   "execution_count": 90,
   "metadata": {},
   "outputs": [
    {
     "data": {
      "text/plain": [
       "<AxesSubplot:>"
      ]
     },
     "execution_count": 90,
     "metadata": {},
     "output_type": "execute_result"
    },
    {
     "data": {
      "image/png": "[encoded data removed]",
      "text/plain": [
       "<Figure size 432x288 with 1 Axes>"
      ]
     },
     "metadata": {
      "needs_background": "light"
     },
     "output_type": "display_data"
    }
   ],
   "source": [
    "#PDF, CDF and CCDF of our data with the best fit with only degree of freedom, lognormal fit\n",
    "fig7 = fit11.plot_pdf(color='b', linewidth=2)\n",
    "fit11.lognormal.plot_pdf(color='b', linestyle='--', ax=fig7)\n",
    "fit11.plot_cdf(color='purple', linewidth=2, ax=fig7)\n",
    "fit11.lognormal.plot_cdf(color='purple', linestyle='--', ax=fig7)\n",
    "fit11.plot_ccdf(color='r', linewidth=2, ax=fig7)\n",
    "fit11.lognormal.plot_ccdf(color='r', linestyle='--', ax=fig7)\n"
   ]
  },
  {
   "cell_type": "code",
   "execution_count": null,
   "metadata": {},
   "outputs": [],
   "source": []
  }
 ],
 "metadata": {
  "kernelspec": {
   "display_name": "Python (pytorch)",
   "language": "python",
   "name": "pytorch"
  },
  "language_info": {
   "codemirror_mode": {
    "name": "ipython",
    "version": 3
   },
   "file_extension": ".py",
   "mimetype": "text/x-python",
   "name": "python",
   "nbconvert_exporter": "python",
   "pygments_lexer": "ipython3",
   "version": "3.10.4"
  }
 },
 "nbformat": 4,
 "nbformat_minor": 4
}
